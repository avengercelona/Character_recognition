{
 "cells": [
  {
   "cell_type": "code",
   "execution_count": 1,
   "id": "b32b1a56",
   "metadata": {
    "_cell_guid": "b1076dfc-b9ad-4769-8c92-a6c4dae69d19",
    "_uuid": "8f2839f25d086af736a60e9eeb907d3b93b6e0e5",
    "execution": {
     "iopub.execute_input": "2023-04-06T02:52:52.194198Z",
     "iopub.status.busy": "2023-04-06T02:52:52.193698Z",
     "iopub.status.idle": "2023-04-06T02:53:04.124378Z",
     "shell.execute_reply": "2023-04-06T02:53:04.122711Z"
    },
    "papermill": {
     "duration": 11.940705,
     "end_time": "2023-04-06T02:53:04.127742",
     "exception": false,
     "start_time": "2023-04-06T02:52:52.187037",
     "status": "completed"
    },
    "tags": []
   },
   "outputs": [
    {
     "name": "stdout",
     "output_type": "stream",
     "text": [
      "/kaggle/input/az-handwritten-alphabets-in-csv-format/A_Z Handwritten Data.csv\n",
      "/kaggle/input/az-handwritten-alphabets-in-csv-format/A_Z Handwritten Data/A_Z Handwritten Data.csv\n"
     ]
    }
   ],
   "source": [
    "# This Python 3 environment comes with many helpful analytics libraries installed\n",
    "# It is defined by the kaggle/python Docker image: https://github.com/kaggle/docker-python\n",
    "# For example, here's several helpful packages to load\n",
    "\n",
    "import numpy as np # linear algebra\n",
    "import pandas as pd # data processing, CSV file I/O (e.g. pd.read_csv)\n",
    "import matplotlib.pyplot as plt\n",
    "import seaborn as sns\n",
    "sns.set_theme()\n",
    "\n",
    "import tensorflow as tf\n",
    "from keras.models import Sequential\n",
    "from keras.layers import Dense\n",
    "from keras.layers import Dropout\n",
    "from keras.layers import Flatten\n",
    "from keras.layers.convolutional import Conv2D\n",
    "from keras.layers.convolutional import MaxPooling2D\n",
    "from keras import backend as K\n",
    "from keras.utils import np_utils\n",
    "\n",
    "from sklearn.model_selection import train_test_split\n",
    "from sklearn.metrics import confusion_matrix\n",
    "from sklearn.preprocessing import MinMaxScaler\n",
    "\n",
    "# Input data files are available in the read-only \"../input/\" directory\n",
    "# For example, running this (by clicking run or pressing Shift+Enter) will list all files under the input directory\n",
    "\n",
    "import os\n",
    "for dirname, _, filenames in os.walk('/kaggle/input'):\n",
    "    for filename in filenames:\n",
    "        print(os.path.join(dirname, filename))\n",
    "\n",
    "# You can write up to 20GB to the current directory (/kaggle/working/) that gets preserved as output when you create a version using \"Save & Run All\" \n",
    "# You can also write temporary files to /kaggle/temp/, but they won't be saved outside of the current session"
   ]
  },
  {
   "cell_type": "code",
   "execution_count": 2,
   "id": "be1f59c9",
   "metadata": {
    "execution": {
     "iopub.execute_input": "2023-04-06T02:53:04.138661Z",
     "iopub.status.busy": "2023-04-06T02:53:04.137700Z",
     "iopub.status.idle": "2023-04-06T02:53:42.632586Z",
     "shell.execute_reply": "2023-04-06T02:53:42.630841Z"
    },
    "papermill": {
     "duration": 38.506336,
     "end_time": "2023-04-06T02:53:42.638220",
     "exception": false,
     "start_time": "2023-04-06T02:53:04.131884",
     "status": "completed"
    },
    "tags": []
   },
   "outputs": [
    {
     "data": {
      "text/plain": [
       "0        0\n",
       "0.1      0\n",
       "0.2      0\n",
       "0.3      0\n",
       "0.4      0\n",
       "        ..\n",
       "0.644    0\n",
       "0.645    0\n",
       "0.646    0\n",
       "0.647    0\n",
       "0.648    0\n",
       "Name: 0, Length: 785, dtype: int64"
      ]
     },
     "execution_count": 2,
     "metadata": {},
     "output_type": "execute_result"
    }
   ],
   "source": [
    "data=pd.read_csv('/kaggle/input/az-handwritten-alphabets-in-csv-format/A_Z Handwritten Data/A_Z Handwritten Data.csv')\n",
    "#data.shape\n",
    "data.iloc[0] #we've 28x28 pixels' greyscale values, so 784 int values to represent the image and 1 col for the answer"
   ]
  },
  {
   "cell_type": "code",
   "execution_count": 3,
   "id": "c3f65986",
   "metadata": {
    "execution": {
     "iopub.execute_input": "2023-04-06T02:53:42.648249Z",
     "iopub.status.busy": "2023-04-06T02:53:42.647725Z",
     "iopub.status.idle": "2023-04-06T02:53:42.655268Z",
     "shell.execute_reply": "2023-04-06T02:53:42.653687Z"
    },
    "papermill": {
     "duration": 0.01634,
     "end_time": "2023-04-06T02:53:42.658372",
     "exception": false,
     "start_time": "2023-04-06T02:53:42.642032",
     "status": "completed"
    },
    "tags": []
   },
   "outputs": [],
   "source": [
    "ansmap= {0:'A',1:'B',2:'C',3:'D',4:'E',5:'F',6:'G',7:'H',8:'I',9:'J',10:'K',11:'L',12:'M',13:'N',14:'O',15:'P',16:'Q',17:'R',18:'S',19:'T',20:'U',21:'V',22:'W',23:'X',24:'Y',25:'Z'}"
   ]
  },
  {
   "cell_type": "code",
   "execution_count": 4,
   "id": "7097a0ad",
   "metadata": {
    "execution": {
     "iopub.execute_input": "2023-04-06T02:53:42.667979Z",
     "iopub.status.busy": "2023-04-06T02:53:42.667473Z",
     "iopub.status.idle": "2023-04-06T02:53:44.403596Z",
     "shell.execute_reply": "2023-04-06T02:53:44.402098Z"
    },
    "papermill": {
     "duration": 1.744647,
     "end_time": "2023-04-06T02:53:44.406814",
     "exception": false,
     "start_time": "2023-04-06T02:53:42.662167",
     "status": "completed"
    },
    "tags": []
   },
   "outputs": [],
   "source": [
    "data.rename(columns={'0':'label'},inplace=True)\n",
    "X=data.drop('label',axis=1)\n",
    "y=data['label']\n",
    "data['label']=data['label'].map(ansmap)"
   ]
  },
  {
   "cell_type": "code",
   "execution_count": 5,
   "id": "8afc2ee2",
   "metadata": {
    "execution": {
     "iopub.execute_input": "2023-04-06T02:53:44.416749Z",
     "iopub.status.busy": "2023-04-06T02:53:44.415787Z",
     "iopub.status.idle": "2023-04-06T02:53:44.928328Z",
     "shell.execute_reply": "2023-04-06T02:53:44.926803Z"
    },
    "papermill": {
     "duration": 0.520965,
     "end_time": "2023-04-06T02:53:44.931470",
     "exception": false,
     "start_time": "2023-04-06T02:53:44.410505",
     "status": "completed"
    },
    "tags": []
   },
   "outputs": [
    {
     "data": {
      "image/png": "[encoded data removed]",
      "text/plain": [
       "<Figure size 640x480 with 1 Axes>"
      ]
     },
     "metadata": {},
     "output_type": "display_data"
    }
   ],
   "source": [
    "data.groupby('label').size().plot.barh()\n",
    "plt.show()"
   ]
  },
  {
   "cell_type": "code",
   "execution_count": 6,
   "id": "996de51f",
   "metadata": {
    "execution": {
     "iopub.execute_input": "2023-04-06T02:53:44.942562Z",
     "iopub.status.busy": "2023-04-06T02:53:44.941989Z",
     "iopub.status.idle": "2023-04-06T02:53:48.021778Z",
     "shell.execute_reply": "2023-04-06T02:53:48.020394Z"
    },
    "papermill": {
     "duration": 3.088562,
     "end_time": "2023-04-06T02:53:48.024546",
     "exception": false,
     "start_time": "2023-04-06T02:53:44.935984",
     "status": "completed"
    },
    "tags": []
   },
   "outputs": [
    {
     "data": {
      "text/plain": [
       "((279337, 784), (93113, 784), (279337,), (93113,))"
      ]
     },
     "execution_count": 6,
     "metadata": {},
     "output_type": "execute_result"
    }
   ],
   "source": [
    "X_train, X_test, y_train, y_test = train_test_split(X,y) #shuffle=True by default\n",
    "X_train.shape, X_test.shape, y_train.shape, y_test.shape"
   ]
  },
  {
   "cell_type": "code",
   "execution_count": 7,
   "id": "058a385a",
   "metadata": {
    "execution": {
     "iopub.execute_input": "2023-04-06T02:53:48.036079Z",
     "iopub.status.busy": "2023-04-06T02:53:48.035087Z",
     "iopub.status.idle": "2023-04-06T02:53:51.447136Z",
     "shell.execute_reply": "2023-04-06T02:53:51.445533Z"
    },
    "papermill": {
     "duration": 3.421158,
     "end_time": "2023-04-06T02:53:51.450196",
     "exception": false,
     "start_time": "2023-04-06T02:53:48.029038",
     "status": "completed"
    },
    "tags": []
   },
   "outputs": [],
   "source": [
    "scaler=MinMaxScaler()\n",
    "scaler.fit(X_train)\n",
    "X_train=scaler.transform(X_train)\n",
    "X_test=scaler.transform(X_test)\n",
    "\n",
    "X_train = X_train.reshape(X_train.shape[0], 28, 28, 1).astype('float32')\n",
    "X_test = X_test.reshape(X_test.shape[0], 28, 28, 1).astype('float32')\n",
    "\n",
    "y_train = np_utils.to_categorical(y_train)\n",
    "y_test = np_utils.to_categorical(y_test)"
   ]
  },
  {
   "cell_type": "markdown",
   "id": "30236821",
   "metadata": {
    "papermill": {
     "duration": 0.003655,
     "end_time": "2023-04-06T02:53:51.458195",
     "exception": false,
     "start_time": "2023-04-06T02:53:51.454540",
     "status": "completed"
    },
    "tags": []
   },
   "source": [
    "# The Model"
   ]
  },
  {
   "cell_type": "code",
   "execution_count": 8,
   "id": "b9539e72",
   "metadata": {
    "execution": {
     "iopub.execute_input": "2023-04-06T02:53:51.468756Z",
     "iopub.status.busy": "2023-04-06T02:53:51.468246Z",
     "iopub.status.idle": "2023-04-06T02:53:51.593050Z",
     "shell.execute_reply": "2023-04-06T02:53:51.591861Z"
    },
    "papermill": {
     "duration": 0.134195,
     "end_time": "2023-04-06T02:53:51.596459",
     "exception": false,
     "start_time": "2023-04-06T02:53:51.462264",
     "status": "completed"
    },
    "tags": []
   },
   "outputs": [],
   "source": [
    "model=Sequential()\n"
   ]
  }
 ],
 "metadata": {
  "kernelspec": {
   "display_name": "Python 3",
   "language": "python",
   "name": "python3"
  },
  "language_info": {
   "codemirror_mode": {
    "name": "ipython",
    "version": 3
   },
   "file_extension": ".py",
   "mimetype": "text/x-python",
   "name": "python",
   "nbconvert_exporter": "python",
   "pygments_lexer": "ipython3",
   "version": "3.7.12"
  },
  "papermill": {
   "default_parameters": {},
   "duration": 76.205156,
   "end_time": "2023-04-06T02:53:55.095207",
   "environment_variables": {},
   "exception": null,
   "input_path": "__notebook__.ipynb",
   "output_path": "__notebook__.ipynb",
   "parameters": {},
   "start_time": "2023-04-06T02:52:38.890051",
   "version": "2.4.0"
  }
 },
 "nbformat": 4,
 "nbformat_minor": 5
}
