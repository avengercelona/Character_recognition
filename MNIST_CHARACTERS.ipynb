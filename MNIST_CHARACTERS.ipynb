{
 "cells": [
  {
   "cell_type": "markdown",
   "id": "ec51822c",
   "metadata": {},
   "source": [
    "# Aquire dataset"
   ]
  },
  {
   "cell_type": "code",
   "execution_count": null,
   "id": "0bab2c3d",
   "metadata": {},
   "outputs": [],
   "source": [
    "import numpy as np\n",
    "import matplotlib.pyplot as plt\n",
    "import emnist\n",
    "\n",
    "import torch \n",
    "import torch.nn as nn\n",
    "import torch.nn.functional as F\n",
    "\n",
    "from torch.utils.data import TensorDataset, DataLoader\n",
    "import torch.optim as optim"
   ]
  },
  {
   "cell_type": "code",
   "execution_count": null,
   "id": "f2a872d9",
   "metadata": {},
   "outputs": [],
   "source": [
    "def get_data():\n",
    "    X, Y = emnist.extract_training_samples('letters')\n",
    "    X_test, Y_test = emnist.extract_test_samples('letters')\n",
    "\n",
    "    return X, Y- 1, X_test, Y_test - 1"
   ]
  },
  {
   "cell_type": "code",
   "execution_count": null,
   "id": "69ff0e2d",
   "metadata": {},
   "outputs": [],
   "source": [
    "X, m_Y, X_test, m_Y_test = get_data()"
   ]
  },
  {
   "cell_type": "code",
   "execution_count": null,
   "id": "208caa5e",
   "metadata": {},
   "outputs": [],
   "source": [
    "X.shape"
   ]
  },
  {
   "cell_type": "code",
   "execution_count": null,
   "id": "831c76e0",
   "metadata": {},
   "outputs": [],
   "source": [
    "X = torch.tensor(np.array(X), dtype=torch.float)\n",
    "X_test = torch.tensor(np.array(X_test), dtype=torch.float)"
   ]
  },
  {
   "cell_type": "code",
   "execution_count": null,
   "id": "442c4d54",
   "metadata": {},
   "outputs": [],
   "source": [
    "m = X.shape[0]"
   ]
  },
  {
   "cell_type": "code",
   "execution_count": null,
   "id": "69f7348e",
   "metadata": {},
   "outputs": [],
   "source": [
    "m"
   ]
  },
  {
   "cell_type": "code",
   "execution_count": null,
   "id": "c2868208",
   "metadata": {},
   "outputs": [],
   "source": [
    "Y = torch.zeros(m,26, dtype = torch.float)\n",
    "Y_test = torch.zeros(X_test.shape[0],26, dtype = torch.long)\n",
    "for i in range(0,m):\n",
    "    Y[i, m_Y[i]] = 1\n",
    "for i in range(0,X_test.shape[0]):\n",
    "    Y_test[i, m_Y_test[i]] = 1"
   ]
  },
  {
   "cell_type": "code",
   "execution_count": null,
   "id": "249ad6bf",
   "metadata": {},
   "outputs": [],
   "source": [
    "train_dataset = TensorDataset(X, Y)\n",
    "train_dataloader = DataLoader(train_dataset, batch_size=64, shuffle=True)\n",
    "\n",
    "test_dataset = TensorDataset(X_test, Y_test)\n",
    "test_dataloader = DataLoader(test_dataset, batch_size=64, shuffle=True)"
   ]
  },
  {
   "cell_type": "code",
   "execution_count": null,
   "id": "e40f7355",
   "metadata": {},
   "outputs": [],
   "source": [
    "def show_img(i):\n",
    "    plt.imshow(i)"
   ]
  },
  {
   "cell_type": "code",
   "execution_count": null,
   "id": "d6e67f29",
   "metadata": {},
   "outputs": [],
   "source": [
    "show_img(X[0])"
   ]
  },
  {
   "cell_type": "code",
   "execution_count": null,
   "id": "226509bd",
   "metadata": {},
   "outputs": [],
   "source": [
    "#settings \n",
    "\n",
    "device = 'cuda' if torch.cuda.is_available() else 'cpu'\n",
    "learning_rate = 0.01\n",
    "batch_size = 10\n",
    "epochs = 10"
   ]
  },
  {
   "cell_type": "code",
   "execution_count": null,
   "id": "d8571bec",
   "metadata": {},
   "outputs": [],
   "source": [
    "class Net(nn.Module):\n",
    "    def __init__(self):\n",
    "        super().__init__()\n",
    "        self.conv1 = nn.Conv2d(1,6,5,padding=2)\n",
    "        self.pool = nn.AvgPool2d((2,2),stride=(2,2))\n",
    "        self.conv2 = nn.Conv2d(6, 16, 5)\n",
    "        self.conv3 = nn.Conv2d(16,120,5)\n",
    "        self.fc1 = nn.Linear(120,84)\n",
    "        self.fc2 = nn.Linear(84,26)\n",
    "    \n",
    "    def forward(self, x):\n",
    "        x = torch.relu((self.conv1(x)))\n",
    "        x = self.pool(x)\n",
    "        x = torch.relu((self.conv2(x)))\n",
    "        x = self.pool(x)\n",
    "        x = torch.relu(self.conv3(x))\n",
    "        x = torch.flatten(x, 1)\n",
    "        x = torch.relu(self.fc1(x))\n",
    "        x = self.fc2(x)\n",
    "        return x\n",
    "\n",
    "model = Net().to(device)"
   ]
  },
  {
   "cell_type": "code",
   "execution_count": null,
   "id": "345488e0",
   "metadata": {},
   "outputs": [],
   "source": [
    "demo_tensor = torch.rand(1,1,28,28, device=device)\n",
    "model(demo_tensor)"
   ]
  },
  {
   "cell_type": "code",
   "execution_count": null,
   "id": "07537694",
   "metadata": {},
   "outputs": [],
   "source": [
    "loss_fn = nn.CrossEntropyLoss()"
   ]
  },
  {
   "cell_type": "code",
   "execution_count": null,
   "id": "de792e5a",
   "metadata": {},
   "outputs": [],
   "source": [
    "optimizer = optim.SGD(model.parameters(), lr = learning_rate)"
   ]
  },
  {
   "cell_type": "code",
   "execution_count": null,
   "id": "8c757331",
   "metadata": {},
   "outputs": [],
   "source": [
    "losses = []"
   ]
  },
  {
   "cell_type": "code",
   "execution_count": null,
   "id": "121b3e85",
   "metadata": {},
   "outputs": [],
   "source": [
    "for epoch in range(epochs):\n",
    "    running_loss = 0.0\n",
    "    print(f\"Epoch {epoch+1}\\n-------------------------------\")\n",
    "    size = len(train_dataloader.dataset)\n",
    "    for batch, (x, y) in enumerate(train_dataloader):\n",
    "        x = torch.unsqueeze(x ,1)\n",
    "        x, y = x.to(device), y.to(device)\n",
    "        pred = model(x)\n",
    "        loss = loss_fn(pred, y)\n",
    "        # print(loss)\n",
    "        optimizer.zero_grad()\n",
    "        loss.backward()\n",
    "        optimizer.step()\n",
    "\n",
    "        running_loss += loss.item()\n",
    "        losses.append(loss.item())\n",
    "        if batch % 200 == 199:\n",
    "            print(f'[{epoch + 1}, {batch + 1:5d}] loss: {running_loss / 200:.3f}')\n",
    "            running_loss = 0.0\n",
    "print('training finished')"
   ]
  },
  {
   "cell_type": "code",
   "execution_count": null,
   "id": "8c0b75b9",
   "metadata": {},
   "outputs": [],
   "source": [
    "plt.plot(losses)"
   ]
  },
  {
   "cell_type": "code",
   "execution_count": null,
   "id": "25f40d17",
   "metadata": {},
   "outputs": [],
   "source": [
    "torch.save(model, \"noice.pth\")"
   ]
  },
  {
   "cell_type": "code",
   "execution_count": null,
   "id": "0359695d",
   "metadata": {},
   "outputs": [],
   "source": [
    "count = 0\n",
    "\n",
    "m_test = X_test.shape[0]\n",
    "\n",
    "with torch.no_grad():\n",
    "    for (x, y) in test_dataloader:\n",
    "        x = torch.unsqueeze(x, 1)\n",
    "        x, y = x.to(device), y.to(device)\n",
    "        count += torch.sum(torch.argmax(model(x),1) == torch.argmax(y,1))\n",
    "#accuracy\n",
    "print(f'accuracy of model = {count/m_test * 100:.2f}%')"
   ]
  },
  {
   "cell_type": "code",
   "execution_count": null,
   "id": "1448dc38",
   "metadata": {},
   "outputs": [],
   "source": [
    "show_img(X_test[1])"
   ]
  },
  {
   "cell_type": "code",
   "execution_count": null,
   "id": "20d8ca09",
   "metadata": {},
   "outputs": [],
   "source": [
    "a = 'a'\n",
    "chr(ord(a) + 1)"
   ]
  },
  {
   "cell_type": "code",
   "execution_count": null,
   "id": "de3687c8",
   "metadata": {},
   "outputs": [],
   "source": [
    "rand_tensor = torch.rand(1,1,28,28,device='cuda')\n",
    "model(rand_tensor).shape"
   ]
  },
  {
   "cell_type": "code",
   "execution_count": null,
   "id": "cf367346",
   "metadata": {},
   "outputs": [],
   "source": [
    "arr = X_test[4583]\n",
    "show_img(arr)\n",
    "test_tensor = (arr).to(device)\n",
    "test_tensor = torch.unsqueeze(test_tensor, 0)\n",
    "#test_tensor = torch.unsqueeze(test_tensor, 0)\n",
    "letters = [chr(ord('a') + i) for i in range(26)]\n",
    "\n",
    "letters[torch.argmax(model(test_tensor.unsqueeze(dim=0))).item()]"
   ]
  }
 ],
 "metadata": {
  "kernelspec": {
   "display_name": "Python 3 (ipykernel)",
   "language": "python",
   "name": "python3"
  },
  "language_info": {
   "codemirror_mode": {
    "name": "ipython",
    "version": 3
   },
   "file_extension": ".py",
   "mimetype": "text/x-python",
   "name": "python",
   "nbconvert_exporter": "python",
   "pygments_lexer": "ipython3",
   "version": "3.10.8"
  },
  "vscode": {
   "interpreter": {
    "hash": "e7370f93d1d0cde622a1f8e1c04877d8463912d04d973331ad4851f04de6915a"
   }
  }
 },
 "nbformat": 4,
 "nbformat_minor": 5
}
