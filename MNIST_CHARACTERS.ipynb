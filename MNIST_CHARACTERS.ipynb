{
 "cells": [
  {
   "cell_type": "markdown",
   "id": "ec51822c",
   "metadata": {},
   "source": [
    "# Aquire dataset"
   ]
  },
  {
   "cell_type": "code",
   "execution_count": 1,
   "id": "0bab2c3d",
   "metadata": {},
   "outputs": [],
   "source": [
    "import numpy as np\n",
    "import matplotlib.pyplot as plt\n",
    "import emnist\n",
    "\n",
    "import torch \n",
    "import torch.nn as nn\n",
    "import torch.nn.functional as F\n",
    "\n",
    "from torch.utils.data import TensorDataset, DataLoader\n",
    "import torch.optim as optim"
   ]
  },
  {
   "cell_type": "code",
   "execution_count": 2,
   "id": "f2a872d9",
   "metadata": {},
   "outputs": [],
   "source": [
    "def get_data():\n",
    "    X, Y = emnist.extract_training_samples('letters')\n",
    "    X_test, Y_test = emnist.extract_test_samples('letters')\n",
    "\n",
    "    return X, Y- 1, X_test, Y_test - 1"
   ]
  },
  {
   "cell_type": "code",
   "execution_count": 3,
   "id": "69ff0e2d",
   "metadata": {},
   "outputs": [],
   "source": [
    "X, m_Y, X_test, m_Y_test = get_data()"
   ]
  },
  {
   "cell_type": "code",
   "execution_count": 4,
   "id": "208caa5e",
   "metadata": {},
   "outputs": [
    {
     "data": {
      "text/plain": [
       "(124800, 28, 28)"
      ]
     },
     "execution_count": 4,
     "metadata": {},
     "output_type": "execute_result"
    }
   ],
   "source": [
    "X.shape"
   ]
  },
  {
   "cell_type": "code",
   "execution_count": 5,
   "id": "831c76e0",
   "metadata": {},
   "outputs": [],
   "source": [
    "X = torch.tensor(np.array(X), dtype=torch.float)\n",
    "X_test = torch.tensor(np.array(X_test), dtype=torch.float)"
   ]
  },
  {
   "cell_type": "code",
   "execution_count": 6,
   "id": "442c4d54",
   "metadata": {},
   "outputs": [
    {
     "data": {
      "text/plain": [
       "124800"
      ]
     },
     "execution_count": 6,
     "metadata": {},
     "output_type": "execute_result"
    }
   ],
   "source": [
    "m = X.shape[0]\n",
    "m"
   ]
  },
  {
   "cell_type": "code",
   "execution_count": 7,
   "id": "c2868208",
   "metadata": {},
   "outputs": [],
   "source": [
    "Y = torch.zeros(m,26, dtype = torch.float)\n",
    "Y_test = torch.zeros(X_test.shape[0],26, dtype = torch.long)\n",
    "for i in range(0,m):\n",
    "    Y[i, m_Y[i]] = 1\n",
    "for i in range(0,X_test.shape[0]):\n",
    "    Y_test[i, m_Y_test[i]] = 1"
   ]
  },
  {
   "cell_type": "code",
   "execution_count": 8,
   "id": "249ad6bf",
   "metadata": {},
   "outputs": [],
   "source": [
    "train_dataset = TensorDataset(X, Y)\n",
    "train_dataloader = DataLoader(train_dataset, batch_size=64, shuffle=True)\n",
    "\n",
    "test_dataset = TensorDataset(X_test, Y_test)\n",
    "test_dataloader = DataLoader(test_dataset, batch_size=64, shuffle=True)"
   ]
  },
  {
   "cell_type": "code",
   "execution_count": 9,
   "id": "e40f7355",
   "metadata": {},
   "outputs": [],
   "source": [
    "def show_img(i):\n",
    "    plt.imshow(i)"
   ]
  },
  {
   "cell_type": "code",
   "execution_count": 10,
   "id": "d6e67f29",
   "metadata": {},
   "outputs": [
    {
     "data": {
      "image/png": "[encoded data removed]",
      "text/plain": [
       "<Figure size 432x288 with 1 Axes>"
      ]
     },
     "metadata": {
      "needs_background": "light"
     },
     "output_type": "display_data"
    }
   ],
   "source": [
    "show_img(X[0])"
   ]
  },
  {
   "cell_type": "code",
   "execution_count": 11,
   "id": "226509bd",
   "metadata": {},
   "outputs": [],
   "source": [
    "#settings \n",
    "\n",
    "device = 'cuda' if torch.cuda.is_available() else 'cpu'\n",
    "learning_rate = 0.01\n",
    "batch_size = 10\n",
    "epochs = 10"
   ]
  },
  {
   "cell_type": "code",
   "execution_count": 12,
   "id": "d8571bec",
   "metadata": {},
   "outputs": [],
   "source": [
    "class Net(nn.Module):\n",
    "    def __init__(self):\n",
    "        super().__init__()\n",
    "        self.conv1 = nn.Conv2d(1,6,5,padding=2)\n",
    "        self.pool = nn.AvgPool2d((2,2),stride=(2,2))\n",
    "        self.conv2 = nn.Conv2d(6, 16, 5)\n",
    "        self.conv3 = nn.Conv2d(16,120,5)\n",
    "        self.fc1 = nn.Linear(120,84)\n",
    "        self.fc2 = nn.Linear(84,26)\n",
    "    \n",
    "    def forward(self, x):\n",
    "        x = torch.relu((self.conv1(x)))\n",
    "        x = self.pool(x)\n",
    "        x = torch.relu((self.conv2(x)))\n",
    "        x = self.pool(x)\n",
    "        x = torch.relu(self.conv3(x))\n",
    "        x = torch.flatten(x, 1)\n",
    "        x = torch.relu(self.fc1(x))\n",
    "        x = self.fc2(x)\n",
    "        return x\n",
    "\n",
    "model = Net().to(device)"
   ]
  },
  {
   "cell_type": "code",
   "execution_count": 13,
   "id": "345488e0",
   "metadata": {},
   "outputs": [
    {
     "data": {
      "text/plain": [
       "tensor([[-0.0304,  0.0838,  0.0282,  0.0574,  0.0508,  0.0048,  0.0687, -0.0102,\n",
       "         -0.0547, -0.0201,  0.1510, -0.0047, -0.0025,  0.0554, -0.0355,  0.0540,\n",
       "         -0.0101,  0.0767, -0.0559,  0.0281, -0.1116, -0.0130, -0.0400, -0.0243,\n",
       "         -0.0406,  0.0774]], device='cuda:0', grad_fn=<AddmmBackward0>)"
      ]
     },
     "execution_count": 13,
     "metadata": {},
     "output_type": "execute_result"
    }
   ],
   "source": [
    "demo_tensor = torch.rand(1,1,28,28, device=device)\n",
    "model(demo_tensor)"
   ]
  },
  {
   "cell_type": "code",
   "execution_count": 14,
   "id": "07537694",
   "metadata": {},
   "outputs": [],
   "source": [
    "loss_fn = nn.CrossEntropyLoss()"
   ]
  },
  {
   "cell_type": "code",
   "execution_count": 15,
   "id": "de792e5a",
   "metadata": {},
   "outputs": [],
   "source": [
    "optimizer = optim.SGD(model.parameters(), lr = learning_rate)"
   ]
  },
  {
   "cell_type": "code",
   "execution_count": 16,
   "id": "8c757331",
   "metadata": {},
   "outputs": [],
   "source": [
    "losses = []"
   ]
  },
  {
   "cell_type": "code",
   "execution_count": 17,
   "id": "121b3e85",
   "metadata": {},
   "outputs": [
    {
     "name": "stdout",
     "output_type": "stream",
     "text": [
      "Epoch 1\n",
      "-------------------------------\n",
      "[1,   200] loss: 1.724\n",
      "[1,   400] loss: 0.793\n",
      "[1,   600] loss: 0.597\n",
      "[1,   800] loss: 0.513\n",
      "[1,  1000] loss: 0.470\n",
      "[1,  1200] loss: 0.421\n",
      "[1,  1400] loss: 0.402\n",
      "[1,  1600] loss: 0.367\n",
      "[1,  1800] loss: 0.363\n",
      "Epoch 2\n",
      "-------------------------------\n",
      "[2,   200] loss: 0.313\n",
      "[2,   400] loss: 0.316\n",
      "[2,   600] loss: 0.302\n",
      "[2,   800] loss: 0.296\n",
      "[2,  1000] loss: 0.297\n",
      "[2,  1200] loss: 0.287\n",
      "[2,  1400] loss: 0.288\n",
      "[2,  1600] loss: 0.281\n",
      "[2,  1800] loss: 0.272\n",
      "Epoch 3\n",
      "-------------------------------\n",
      "[3,   200] loss: 0.264\n",
      "[3,   400] loss: 0.247\n",
      "[3,   600] loss: 0.245\n",
      "[3,   800] loss: 0.256\n",
      "[3,  1000] loss: 0.240\n",
      "[3,  1200] loss: 0.233\n",
      "[3,  1400] loss: 0.238\n",
      "[3,  1600] loss: 0.240\n",
      "[3,  1800] loss: 0.239\n",
      "Epoch 4\n",
      "-------------------------------\n",
      "[4,   200] loss: 0.217\n",
      "[4,   400] loss: 0.218\n",
      "[4,   600] loss: 0.206\n",
      "[4,   800] loss: 0.221\n",
      "[4,  1000] loss: 0.222\n",
      "[4,  1200] loss: 0.215\n",
      "[4,  1400] loss: 0.219\n",
      "[4,  1600] loss: 0.223\n",
      "[4,  1800] loss: 0.213\n",
      "Epoch 5\n",
      "-------------------------------\n",
      "[5,   200] loss: 0.196\n",
      "[5,   400] loss: 0.194\n",
      "[5,   600] loss: 0.193\n",
      "[5,   800] loss: 0.190\n",
      "[5,  1000] loss: 0.223\n",
      "[5,  1200] loss: 0.197\n",
      "[5,  1400] loss: 0.206\n",
      "[5,  1600] loss: 0.193\n",
      "[5,  1800] loss: 0.196\n",
      "Epoch 6\n",
      "-------------------------------\n",
      "[6,   200] loss: 0.177\n",
      "[6,   400] loss: 0.176\n",
      "[6,   600] loss: 0.185\n",
      "[6,   800] loss: 0.185\n",
      "[6,  1000] loss: 0.190\n",
      "[6,  1200] loss: 0.198\n",
      "[6,  1400] loss: 0.181\n",
      "[6,  1600] loss: 0.182\n",
      "[6,  1800] loss: 0.188\n",
      "Epoch 7\n",
      "-------------------------------\n",
      "[7,   200] loss: 0.172\n",
      "[7,   400] loss: 0.169\n",
      "[7,   600] loss: 0.167\n",
      "[7,   800] loss: 0.172\n",
      "[7,  1000] loss: 0.169\n",
      "[7,  1200] loss: 0.172\n",
      "[7,  1400] loss: 0.176\n",
      "[7,  1600] loss: 0.181\n",
      "[7,  1800] loss: 0.175\n",
      "Epoch 8\n",
      "-------------------------------\n",
      "[8,   200] loss: 0.151\n",
      "[8,   400] loss: 0.135\n",
      "[8,   600] loss: 0.136\n",
      "[8,   800] loss: 0.130\n",
      "[8,  1000] loss: 0.138\n",
      "[8,  1200] loss: 0.134\n",
      "[8,  1400] loss: 0.134\n",
      "[8,  1600] loss: 0.132\n",
      "[8,  1800] loss: 0.130\n",
      "Epoch 9\n",
      "-------------------------------\n",
      "[9,   200] loss: 0.130\n",
      "[9,   400] loss: 0.135\n",
      "[9,   600] loss: 0.131\n",
      "[9,   800] loss: 0.127\n",
      "[9,  1000] loss: 0.129\n",
      "[9,  1200] loss: 0.128\n",
      "[9,  1400] loss: 0.131\n",
      "[9,  1600] loss: 0.127\n",
      "[9,  1800] loss: 0.127\n",
      "Epoch 10\n",
      "-------------------------------\n",
      "[10,   200] loss: 0.129\n",
      "[10,   400] loss: 0.129\n",
      "[10,   600] loss: 0.129\n",
      "[10,   800] loss: 0.130\n",
      "[10,  1000] loss: 0.126\n",
      "[10,  1200] loss: 0.120\n",
      "[10,  1400] loss: 0.126\n",
      "[10,  1600] loss: 0.132\n",
      "[10,  1800] loss: 0.116\n",
      "training finished\n"
     ]
    }
   ],
   "source": [
    "for epoch in range(epochs):\n",
    "    running_loss = 0.0\n",
    "    if epoch > (2/3*epochs):\n",
    "        optimizer = optimizer = optim.SGD(model.parameters(), lr = learning_rate/10)\n",
    "    print(f\"Epoch {epoch+1}\\n-------------------------------\")\n",
    "    size = len(train_dataloader.dataset)\n",
    "    for batch, (x, y) in enumerate(train_dataloader):\n",
    "        x = torch.unsqueeze(x ,1)\n",
    "        x, y = x.to(device), y.to(device)\n",
    "        pred = model(x)\n",
    "        loss = loss_fn(pred, y)\n",
    "        # print(loss)\n",
    "        optimizer.zero_grad()\n",
    "        loss.backward()\n",
    "        optimizer.step()\n",
    "\n",
    "        running_loss += loss.item()\n",
    "        if batch % 200 == 199:\n",
    "            print(f'[{epoch + 1}, {batch + 1:5d}] loss: {running_loss / 200:.3f}')\n",
    "            running_loss = 0.0\n",
    "    losses.append(running_loss)\n",
    "print('training finished')"
   ]
  },
  {
   "cell_type": "code",
   "execution_count": 18,
   "id": "8c0b75b9",
   "metadata": {},
   "outputs": [
    {
     "data": {
      "text/plain": [
       "[<matplotlib.lines.Line2D at 0x7fc69410d180>]"
      ]
     },
     "execution_count": 18,
     "metadata": {},
     "output_type": "execute_result"
    },
    {
     "data": {
      "image/png": "[encoded data removed]",
      "text/plain": [
       "<Figure size 432x288 with 1 Axes>"
      ]
     },
     "metadata": {
      "needs_background": "light"
     },
     "output_type": "display_data"
    }
   ],
   "source": [
    "plt.plot(losses)"
   ]
  },
  {
   "cell_type": "code",
   "execution_count": 19,
   "id": "25f40d17",
   "metadata": {},
   "outputs": [],
   "source": [
    "torch.save(model, \"noice.pth\")"
   ]
  },
  {
   "cell_type": "code",
   "execution_count": 20,
   "id": "0359695d",
   "metadata": {},
   "outputs": [
    {
     "name": "stdout",
     "output_type": "stream",
     "text": [
      "accuracy of model = 93.41%\n"
     ]
    }
   ],
   "source": [
    "count = 0\n",
    "\n",
    "m_test = X_test.shape[0]\n",
    "\n",
    "with torch.no_grad():\n",
    "    for (x, y) in test_dataloader:\n",
    "        x = torch.unsqueeze(x, 1)\n",
    "        x, y = x.to(device), y.to(device)\n",
    "        count += torch.sum(torch.argmax(model(x),1) == torch.argmax(y,1))\n",
    "#accuracy\n",
    "print(f'accuracy of model = {count/m_test * 100:.2f}%')"
   ]
  }
 ],
 "metadata": {
  "kernelspec": {
   "display_name": "Python 3 (ipykernel)",
   "language": "python",
   "name": "python3"
  },
  "language_info": {
   "codemirror_mode": {
    "name": "ipython",
    "version": 3
   },
   "file_extension": ".py",
   "mimetype": "text/x-python",
   "name": "python",
   "nbconvert_exporter": "python",
   "pygments_lexer": "ipython3",
   "version": "3.10.8"
  },
  "vscode": {
   "interpreter": {
    "hash": "e7370f93d1d0cde622a1f8e1c04877d8463912d04d973331ad4851f04de6915a"
   }
  }
 },
 "nbformat": 4,
 "nbformat_minor": 5
}
