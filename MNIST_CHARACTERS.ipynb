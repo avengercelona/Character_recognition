{
 "cells": [
  {
   "cell_type": "markdown",
   "id": "ec51822c",
   "metadata": {},
   "source": [
    "# Aquire dataset"
   ]
  },
  {
   "cell_type": "code",
   "execution_count": 1,
   "id": "0bab2c3d",
   "metadata": {},
   "outputs": [],
   "source": [
    "import numpy as np\n",
    "import matplotlib.pyplot as plt\n",
    "import emnist\n",
    "\n",
    "import torch \n",
    "import torch.nn as nn\n",
    "import torch.nn.functional as F\n",
    "\n",
    "from torch.utils.data import TensorDataset, DataLoader\n",
    "import torch.optim as optim"
   ]
  },
  {
   "cell_type": "code",
   "execution_count": 2,
   "id": "f2a872d9",
   "metadata": {},
   "outputs": [],
   "source": [
    "def get_data():\n",
    "    X, Y = emnist.extract_training_samples('letters')\n",
    "    X_test, Y_test = emnist.extract_test_samples('letters')\n",
    "\n",
    "    return X, Y- 1, X_test, Y_test - 1"
   ]
  },
  {
   "cell_type": "code",
   "execution_count": 3,
   "id": "69ff0e2d",
   "metadata": {},
   "outputs": [],
   "source": [
    "X, m_Y, X_test, m_Y_test = get_data()"
   ]
  },
  {
   "cell_type": "code",
   "execution_count": 4,
   "id": "208caa5e",
   "metadata": {},
   "outputs": [
    {
     "data": {
      "text/plain": [
       "(124800, 28, 28)"
      ]
     },
     "execution_count": 4,
     "metadata": {},
     "output_type": "execute_result"
    }
   ],
   "source": [
    "X.shape"
   ]
  },
  {
   "cell_type": "code",
   "execution_count": 5,
   "id": "831c76e0",
   "metadata": {},
   "outputs": [],
   "source": [
    "X = torch.tensor(np.array(X), dtype=torch.float)\n",
    "X_test = torch.tensor(np.array(X_test), dtype=torch.float)"
   ]
  },
  {
   "cell_type": "code",
   "execution_count": 6,
   "id": "442c4d54",
   "metadata": {},
   "outputs": [],
   "source": [
    "m = X.shape[0]"
   ]
  },
  {
   "cell_type": "code",
   "execution_count": 7,
   "id": "69f7348e",
   "metadata": {},
   "outputs": [
    {
     "data": {
      "text/plain": [
       "124800"
      ]
     },
     "execution_count": 7,
     "metadata": {},
     "output_type": "execute_result"
    }
   ],
   "source": [
    "m"
   ]
  },
  {
   "cell_type": "code",
   "execution_count": 8,
   "id": "c2868208",
   "metadata": {},
   "outputs": [],
   "source": [
    "Y = torch.zeros(m,26, dtype = torch.float)\n",
    "Y_test = torch.zeros(X_test.shape[0],26, dtype = torch.long)\n",
    "for i in range(0,m):\n",
    "    Y[i, m_Y[i]] = 1\n",
    "for i in range(0,X_test.shape[0]):\n",
    "    Y_test[i, m_Y_test[i]] = 1"
   ]
  },
  {
   "cell_type": "code",
   "execution_count": 9,
   "id": "249ad6bf",
   "metadata": {},
   "outputs": [],
   "source": [
    "train_dataset = TensorDataset(X, Y)\n",
    "train_dataloader = DataLoader(train_dataset, batch_size=64, shuffle=True)\n",
    "\n",
    "test_dataset = TensorDataset(X_test, Y_test)\n",
    "test_dataloader = DataLoader(test_dataset, batch_size=64, shuffle=True)"
   ]
  },
  {
   "cell_type": "code",
   "execution_count": 10,
   "id": "e40f7355",
   "metadata": {},
   "outputs": [],
   "source": [
    "def show_img(i):\n",
    "    plt.imshow(i)"
   ]
  },
  {
   "cell_type": "code",
   "execution_count": 11,
   "id": "d6e67f29",
   "metadata": {},
   "outputs": [
    {
     "data": {
      "image/png": "[encoded data removed]",
      "text/plain": [
       "<Figure size 432x288 with 1 Axes>"
      ]
     },
     "metadata": {
      "needs_background": "light"
     },
     "output_type": "display_data"
    }
   ],
   "source": [
    "show_img(X[0])"
   ]
  },
  {
   "cell_type": "code",
   "execution_count": 26,
   "id": "226509bd",
   "metadata": {},
   "outputs": [],
   "source": [
    "#settings \n",
    "\n",
    "device = 'cuda' if torch.cuda.is_available() else 'cpu'\n",
    "learning_rate = 0.01\n",
    "batch_size = 10\n",
    "epochs = 6"
   ]
  },
  {
   "cell_type": "code",
   "execution_count": 44,
   "id": "d8571bec",
   "metadata": {},
   "outputs": [],
   "source": [
    "class Net(nn.Module):\n",
    "    def __init__(self):\n",
    "        super().__init__()\n",
    "        self.conv1 = nn.Conv2d(1,6,5,padding=2)\n",
    "        self.pool = nn.AvgPool2d((2,2),stride=(2,2))\n",
    "        self.conv2 = nn.Conv2d(6, 16, 5)\n",
    "        self.conv3 = nn.Conv2d(16,120,5)\n",
    "        self.fc1 = nn.Linear(120,84)\n",
    "        self.fc2 = nn.Linear(84,26)\n",
    "    \n",
    "    def forward(self, x):\n",
    "        x = self.pool((self.conv1(x)))\n",
    "        x = torch.tanh(x)\n",
    "        x = self.pool((self.conv2(x)))\n",
    "        x = self.conv3(x)\n",
    "        x = torch.flatten(x, 1)\n",
    "        x = torch.tanh(self.fc1(x))\n",
    "        x = self.fc2(x)\n",
    "        return x\n",
    "\n",
    "model = Net().to(device)"
   ]
  },
  {
   "cell_type": "code",
   "execution_count": 45,
   "id": "345488e0",
   "metadata": {},
   "outputs": [
    {
     "data": {
      "text/plain": [
       "tensor([[ 0.0035, -0.1314, -0.0310,  0.1029,  0.1222,  0.1561, -0.0271,  0.1746,\n",
       "          0.0951, -0.1376, -0.0787,  0.0345,  0.1893,  0.0785, -0.0105, -0.0484,\n",
       "          0.0092, -0.1152,  0.0247, -0.0396,  0.1642,  0.0132, -0.0380, -0.1000,\n",
       "          0.1476, -0.0054]], device='cuda:0', grad_fn=<AddmmBackward0>)"
      ]
     },
     "execution_count": 45,
     "metadata": {},
     "output_type": "execute_result"
    }
   ],
   "source": [
    "demo_tensor = torch.rand(1,1,28,28, device=device)\n",
    "model(demo_tensor)"
   ]
  },
  {
   "cell_type": "code",
   "execution_count": 46,
   "id": "07537694",
   "metadata": {},
   "outputs": [],
   "source": [
    "loss_fn = nn.CrossEntropyLoss()"
   ]
  },
  {
   "cell_type": "code",
   "execution_count": 47,
   "id": "de792e5a",
   "metadata": {},
   "outputs": [],
   "source": [
    "optimizer = optim.SGD(model.parameters(), lr = learning_rate)"
   ]
  },
  {
   "cell_type": "code",
   "execution_count": 48,
   "id": "121b3e85",
   "metadata": {},
   "outputs": [
    {
     "name": "stdout",
     "output_type": "stream",
     "text": [
      "Epoch 1\n",
      "-------------------------------\n",
      "[1,   200] loss: 3.180\n",
      "[1,   400] loss: 2.765\n",
      "[1,   600] loss: 2.172\n",
      "[1,   800] loss: 1.784\n",
      "[1,  1000] loss: 1.523\n",
      "[1,  1200] loss: 1.381\n",
      "[1,  1400] loss: 1.280\n",
      "[1,  1600] loss: 1.187\n",
      "[1,  1800] loss: 1.097\n",
      "Epoch 2\n",
      "-------------------------------\n",
      "[2,   200] loss: 0.993\n",
      "[2,   400] loss: 0.942\n",
      "[2,   600] loss: 0.910\n",
      "[2,   800] loss: 0.876\n",
      "[2,  1000] loss: 0.823\n",
      "[2,  1200] loss: 0.784\n",
      "[2,  1400] loss: 0.762\n",
      "[2,  1600] loss: 0.729\n",
      "[2,  1800] loss: 0.728\n",
      "Epoch 3\n",
      "-------------------------------\n",
      "[3,   200] loss: 0.665\n",
      "[3,   400] loss: 0.659\n",
      "[3,   600] loss: 0.637\n",
      "[3,   800] loss: 0.630\n",
      "[3,  1000] loss: 0.618\n",
      "[3,  1200] loss: 0.600\n",
      "[3,  1400] loss: 0.596\n",
      "[3,  1600] loss: 0.589\n",
      "[3,  1800] loss: 0.584\n",
      "Epoch 4\n",
      "-------------------------------\n",
      "[4,   200] loss: 0.546\n",
      "[4,   400] loss: 0.548\n",
      "[4,   600] loss: 0.549\n",
      "[4,   800] loss: 0.529\n",
      "[4,  1000] loss: 0.525\n",
      "[4,  1200] loss: 0.518\n",
      "[4,  1400] loss: 0.507\n",
      "[4,  1600] loss: 0.511\n",
      "[4,  1800] loss: 0.501\n",
      "Epoch 5\n",
      "-------------------------------\n",
      "[5,   200] loss: 0.481\n",
      "[5,   400] loss: 0.480\n",
      "[5,   600] loss: 0.481\n",
      "[5,   800] loss: 0.469\n",
      "[5,  1000] loss: 0.457\n",
      "[5,  1200] loss: 0.473\n",
      "[5,  1400] loss: 0.481\n",
      "[5,  1600] loss: 0.471\n",
      "[5,  1800] loss: 0.456\n",
      "Epoch 6\n",
      "-------------------------------\n",
      "[6,   200] loss: 0.446\n",
      "[6,   400] loss: 0.452\n",
      "[6,   600] loss: 0.441\n",
      "[6,   800] loss: 0.433\n",
      "[6,  1000] loss: 0.421\n",
      "[6,  1200] loss: 0.438\n",
      "[6,  1400] loss: 0.425\n",
      "[6,  1600] loss: 0.419\n",
      "[6,  1800] loss: 0.413\n",
      "training finished\n"
     ]
    }
   ],
   "source": [
    "for epoch in range(epochs):\n",
    "    running_loss = 0.0\n",
    "    print(f\"Epoch {epoch+1}\\n-------------------------------\")\n",
    "    size = len(train_dataloader.dataset)\n",
    "    for batch, (x, y) in enumerate(train_dataloader):\n",
    "        x = torch.unsqueeze(x ,1)\n",
    "        x, y = x.to(device), y.to(device)\n",
    "        pred = model(x)\n",
    "        loss = loss_fn(pred, y)\n",
    "        # print(loss)\n",
    "        optimizer.zero_grad()\n",
    "        loss.backward()\n",
    "        optimizer.step()\n",
    "\n",
    "        running_loss += loss.item()\n",
    "\n",
    "        if batch % 200 == 199:\n",
    "            print(f'[{epoch + 1}, {batch + 1:5d}] loss: {running_loss / 200:.3f}')\n",
    "            running_loss = 0.0\n",
    "print('training finished')"
   ]
  },
  {
   "cell_type": "code",
   "execution_count": 18,
   "id": "25f40d17",
   "metadata": {},
   "outputs": [],
   "source": [
    "torch.save(model, \"noice.pth\")"
   ]
  },
  {
   "cell_type": "code",
   "execution_count": 49,
   "id": "0359695d",
   "metadata": {},
   "outputs": [
    {
     "name": "stdout",
     "output_type": "stream",
     "text": [
      "accuracy of model = 87.27%\n"
     ]
    }
   ],
   "source": [
    "count = 0\n",
    "\n",
    "m_test = X_test.shape[0]\n",
    "\n",
    "with torch.no_grad():\n",
    "    for (x, y) in test_dataloader:\n",
    "        x = torch.unsqueeze(x, 1)\n",
    "        x, y = x.to(device), y.to(device)\n",
    "        count += torch.sum(torch.argmax(model(x),1) == torch.argmax(y,1))\n",
    "#accuracy\n",
    "print(f'accuracy of model = {count/m_test * 100:.2f}%')"
   ]
  },
  {
   "cell_type": "code",
   "execution_count": 20,
   "id": "1448dc38",
   "metadata": {},
   "outputs": [
    {
     "data": {
      "image/png": "[encoded data removed]",
      "text/plain": [
       "<Figure size 432x288 with 1 Axes>"
      ]
     },
     "metadata": {
      "needs_background": "light"
     },
     "output_type": "display_data"
    }
   ],
   "source": [
    "show_img(X_test[1])"
   ]
  },
  {
   "cell_type": "code",
   "execution_count": 21,
   "id": "20d8ca09",
   "metadata": {},
   "outputs": [
    {
     "data": {
      "text/plain": [
       "'b'"
      ]
     },
     "execution_count": 21,
     "metadata": {},
     "output_type": "execute_result"
    }
   ],
   "source": [
    "a = 'a'\n",
    "chr(ord(a) + 1)"
   ]
  },
  {
   "cell_type": "code",
   "execution_count": 22,
   "id": "de3687c8",
   "metadata": {},
   "outputs": [
    {
     "name": "stderr",
     "output_type": "stream",
     "text": [
      "/tmp/ipykernel_4477/1849687925.py:19: UserWarning: Implicit dimension choice for softmax has been deprecated. Change the call to include dim=X as an argument.\n",
      "  x = F.softmax(x)\n"
     ]
    },
    {
     "data": {
      "text/plain": [
       "torch.Size([1, 26])"
      ]
     },
     "execution_count": 22,
     "metadata": {},
     "output_type": "execute_result"
    }
   ],
   "source": [
    "rand_tensor = torch.rand(1,1,28,28,device='cuda')\n",
    "model(rand_tensor).shape"
   ]
  },
  {
   "cell_type": "code",
   "execution_count": 52,
   "id": "cf367346",
   "metadata": {},
   "outputs": [
    {
     "data": {
      "text/plain": [
       "'f'"
      ]
     },
     "execution_count": 52,
     "metadata": {},
     "output_type": "execute_result"
    },
    {
     "data": {
      "image/png": "[encoded data removed]",
      "text/plain": [
       "<Figure size 432x288 with 1 Axes>"
      ]
     },
     "metadata": {
      "needs_background": "light"
     },
     "output_type": "display_data"
    }
   ],
   "source": [
    "arr = X_test[4583]\n",
    "show_img(arr)\n",
    "test_tensor = (arr).to(device)\n",
    "test_tensor = torch.unsqueeze(test_tensor, 0)\n",
    "#test_tensor = torch.unsqueeze(test_tensor, 0)\n",
    "letters = [chr(ord('a') + i) for i in range(26)]\n",
    "\n",
    "letters[torch.argmax(model(test_tensor.unsqueeze(dim=0))).item()]"
   ]
  },
  {
   "cell_type": "code",
   "execution_count": 24,
   "id": "6e8d644b",
   "metadata": {},
   "outputs": [
    {
     "data": {
      "text/plain": [
       "'m'"
      ]
     },
     "execution_count": 24,
     "metadata": {},
     "output_type": "execute_result"
    }
   ],
   "source": [
    "letters[torch.argmax(Y_test[10000]).item()]"
   ]
  },
  {
   "cell_type": "code",
   "execution_count": 82,
   "id": "cde00066",
   "metadata": {},
   "outputs": [
    {
     "data": {
      "text/plain": [
       "<matplotlib.image.AxesImage at 0x7f4c73768b80>"
      ]
     },
     "execution_count": 82,
     "metadata": {},
     "output_type": "execute_result"
    },
    {
     "data": {
      "image/png": "[encoded data removed]",
      "text/plain": [
       "<Figure size 432x288 with 1 Axes>"
      ]
     },
     "metadata": {
      "needs_background": "light"
     },
     "output_type": "display_data"
    }
   ],
   "source": [
    "w = model.fc2.weight.data.cpu().numpy()\n",
    "plt.imshow(w,cmap='gray')"
   ]
  },
  {
   "cell_type": "code",
   "execution_count": 25,
   "id": "b6c4024a",
   "metadata": {},
   "outputs": [
    {
     "name": "stderr",
     "output_type": "stream",
     "text": [
      "/tmp/ipykernel_4477/1849687925.py:19: UserWarning: Implicit dimension choice for softmax has been deprecated. Change the call to include dim=X as an argument.\n",
      "  x = F.softmax(x)\n"
     ]
    },
    {
     "name": "stdout",
     "output_type": "stream",
     "text": [
      "42\n",
      "a\n"
     ]
    },
    {
     "data": {
      "image/png": "[encoded data removed]",
      "text/plain": [
       "<Figure size 432x288 with 1 Axes>"
      ]
     },
     "metadata": {
      "needs_background": "light"
     },
     "output_type": "display_data"
    }
   ],
   "source": [
    "for i in range(42,m_test):\n",
    "    arr = X_test[i]\n",
    "    test_tensor = (arr).to(device)\n",
    "    test_tensor = torch.unsqueeze(test_tensor, 0)\n",
    "    pred = torch.argmax(model(test_tensor.unsqueeze(dim=0))).item() \n",
    "    truth = torch.argmax(Y_test[i]).item()\n",
    "    if pred != truth:\n",
    "        show_img(X[i])\n",
    "        print(i)\n",
    "        print(letters[truth])\n",
    "        break\n",
    "\n",
    "\n",
    "\n"
   ]
  }
 ],
 "metadata": {
  "kernelspec": {
   "display_name": "Python 3 (ipykernel)",
   "language": "python",
   "name": "python3"
  },
  "language_info": {
   "codemirror_mode": {
    "name": "ipython",
    "version": 3
   },
   "file_extension": ".py",
   "mimetype": "text/x-python",
   "name": "python",
   "nbconvert_exporter": "python",
   "pygments_lexer": "ipython3",
   "version": "3.10.8"
  },
  "vscode": {
   "interpreter": {
    "hash": "e7370f93d1d0cde622a1f8e1c04877d8463912d04d973331ad4851f04de6915a"
   }
  }
 },
 "nbformat": 4,
 "nbformat_minor": 5
}
