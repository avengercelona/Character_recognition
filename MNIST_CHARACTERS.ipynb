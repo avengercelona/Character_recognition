{
 "cells": [
  {
   "cell_type": "markdown",
   "id": "ec51822c",
   "metadata": {},
   "source": [
    "# Aquire dataset"
   ]
  },
  {
   "cell_type": "code",
   "execution_count": 1,
   "id": "0bab2c3d",
   "metadata": {},
   "outputs": [],
   "source": [
    "import numpy as np\n",
    "import matplotlib.pyplot as plt\n",
    "import emnist\n",
    "\n",
    "import torch \n",
    "import torch.nn as nn\n",
    "import torch.nn.functional as F\n",
    "\n",
    "from torch.utils.data import TensorDataset, DataLoader\n",
    "import torch.optim as optim"
   ]
  },
  {
   "cell_type": "code",
   "execution_count": 2,
   "id": "f2a872d9",
   "metadata": {},
   "outputs": [],
   "source": [
    "def get_data():\n",
    "    X, Y = emnist.extract_training_samples('letters')\n",
    "    X_test, Y_test = emnist.extract_test_samples('letters')\n",
    "\n",
    "    return X, Y- 1, X_test, Y_test - 1"
   ]
  },
  {
   "cell_type": "code",
   "execution_count": 3,
   "id": "69ff0e2d",
   "metadata": {},
   "outputs": [],
   "source": [
    "X, m_Y, X_test, m_Y_test = get_data()"
   ]
  },
  {
   "cell_type": "code",
   "execution_count": 4,
   "id": "208caa5e",
   "metadata": {},
   "outputs": [
    {
     "data": {
      "text/plain": [
       "(124800, 28, 28)"
      ]
     },
     "execution_count": 4,
     "metadata": {},
     "output_type": "execute_result"
    }
   ],
   "source": [
    "X.shape"
   ]
  },
  {
   "cell_type": "code",
   "execution_count": 5,
   "id": "831c76e0",
   "metadata": {},
   "outputs": [],
   "source": [
    "X = torch.tensor(np.array(X), dtype=torch.float)\n",
    "X_test = torch.tensor(np.array(X_test), dtype=torch.float)"
   ]
  },
  {
   "cell_type": "code",
   "execution_count": 6,
   "id": "442c4d54",
   "metadata": {},
   "outputs": [],
   "source": [
    "m = X.shape[0]"
   ]
  },
  {
   "cell_type": "code",
   "execution_count": 7,
   "id": "c2868208",
   "metadata": {},
   "outputs": [],
   "source": [
    "Y = torch.zeros(m,26, dtype = torch.float)\n",
    "Y_test = torch.zeros(X_test.shape[0],26, dtype = torch.long)\n",
    "for i in range(0,m):\n",
    "    Y[i, m_Y[i]] = 1\n",
    "for i in range(0,X_test.shape[0]):\n",
    "    Y_test[i, m_Y_test[i]] = 1"
   ]
  },
  {
   "cell_type": "code",
   "execution_count": 8,
   "id": "249ad6bf",
   "metadata": {},
   "outputs": [],
   "source": [
    "train_dataset = TensorDataset(X, Y)\n",
    "train_dataloader = DataLoader(train_dataset, batch_size=64, shuffle=True)\n",
    "\n",
    "test_dataset = TensorDataset(X_test, Y_test)\n",
    "test_dataloader = DataLoader(test_dataset, batch_size=64, shuffle=True)"
   ]
  },
  {
   "cell_type": "code",
   "execution_count": 9,
   "id": "e40f7355",
   "metadata": {},
   "outputs": [],
   "source": [
    "def show_img(i):\n",
    "    plt.imshow(i)"
   ]
  },
  {
   "cell_type": "code",
   "execution_count": 10,
   "id": "d6e67f29",
   "metadata": {},
   "outputs": [
    {
     "data": {
      "image/png": "[encoded data removed]",
      "text/plain": [
       "<Figure size 432x288 with 1 Axes>"
      ]
     },
     "metadata": {
      "needs_background": "light"
     },
     "output_type": "display_data"
    }
   ],
   "source": [
    "show_img(X[0])"
   ]
  },
  {
   "cell_type": "code",
   "execution_count": 11,
   "id": "d8571bec",
   "metadata": {},
   "outputs": [],
   "source": [
    "class Net(nn.Module):\n",
    "    def __init__(self):\n",
    "        super().__init__()\n",
    "        self.flatten = nn.Flatten()\n",
    "        self.fc1 = nn.Linear(28*28,512)\n",
    "        self.fc2 = nn.Linear(512,120)\n",
    "        self.fc3 = nn.Linear(120,26)\n",
    "    \n",
    "    def forward(self, x):\n",
    "        x = self.flatten(x)\n",
    "        x = F.relu(self.fc1(x))\n",
    "        x = F.relu(self.fc2(x))\n",
    "        x = F.relu(self.fc3(x))\n",
    "        #x = F.softmax(self.fc3(x), dim = -1)\n",
    "        return x\n",
    "\n",
    "model = Net().to(\"cuda\")"
   ]
  },
  {
   "cell_type": "code",
   "execution_count": 12,
   "id": "226509bd",
   "metadata": {},
   "outputs": [],
   "source": [
    "#constants \n",
    "\n",
    "learning_rate = 0.0001\n",
    "batch_size = 64\n",
    "epochs = 10"
   ]
  },
  {
   "cell_type": "code",
   "execution_count": 13,
   "id": "07537694",
   "metadata": {},
   "outputs": [],
   "source": [
    "loss_fn = nn.CrossEntropyLoss()"
   ]
  },
  {
   "cell_type": "code",
   "execution_count": 14,
   "id": "de792e5a",
   "metadata": {},
   "outputs": [],
   "source": [
    "optimizer = optim.SGD(model.parameters(), lr = learning_rate, momentum=0.9)"
   ]
  },
  {
   "cell_type": "code",
   "execution_count": 15,
   "id": "121b3e85",
   "metadata": {},
   "outputs": [
    {
     "name": "stdout",
     "output_type": "stream",
     "text": [
      "Epoch 1\n",
      "-------------------------------\n",
      "loss: 12.170162  [    0/124800]\n",
      "loss: 2.703858  [ 6400/124800]\n",
      "loss: 2.302884  [12800/124800]\n",
      "loss: 2.340633  [19200/124800]\n",
      "loss: 1.945207  [25600/124800]\n",
      "loss: 1.812243  [32000/124800]\n",
      "loss: 1.686555  [38400/124800]\n",
      "loss: 1.640617  [44800/124800]\n",
      "loss: 1.360345  [51200/124800]\n",
      "loss: 1.812260  [57600/124800]\n",
      "loss: 1.299847  [64000/124800]\n",
      "loss: 1.419523  [70400/124800]\n",
      "loss: 1.294485  [76800/124800]\n",
      "loss: 1.367918  [83200/124800]\n",
      "loss: 0.904358  [89600/124800]\n",
      "loss: 1.150949  [96000/124800]\n",
      "loss: 0.908235  [102400/124800]\n",
      "loss: 1.096666  [108800/124800]\n",
      "loss: 0.764085  [115200/124800]\n",
      "loss: 1.056313  [121600/124800]\n",
      "Epoch 2\n",
      "-------------------------------\n",
      "loss: 0.667394  [    0/124800]\n",
      "loss: 1.082408  [ 6400/124800]\n",
      "loss: 0.727877  [12800/124800]\n",
      "loss: 0.609448  [19200/124800]\n",
      "loss: 1.003450  [25600/124800]\n",
      "loss: 0.508512  [32000/124800]\n",
      "loss: 0.589804  [38400/124800]\n",
      "loss: 0.801607  [44800/124800]\n",
      "loss: 0.694210  [51200/124800]\n",
      "loss: 0.628308  [57600/124800]\n",
      "loss: 0.485347  [64000/124800]\n",
      "loss: 0.535564  [70400/124800]\n",
      "loss: 0.941004  [76800/124800]\n",
      "loss: 0.516663  [83200/124800]\n",
      "loss: 0.596115  [89600/124800]\n",
      "loss: 0.596009  [96000/124800]\n",
      "loss: 0.534315  [102400/124800]\n",
      "loss: 0.677528  [108800/124800]\n",
      "loss: 0.513613  [115200/124800]\n",
      "loss: 0.738956  [121600/124800]\n",
      "Epoch 3\n",
      "-------------------------------\n",
      "loss: 0.270222  [    0/124800]\n",
      "loss: 0.496095  [ 6400/124800]\n",
      "loss: 0.413822  [12800/124800]\n",
      "loss: 0.683078  [19200/124800]\n",
      "loss: 0.451459  [25600/124800]\n",
      "loss: 0.649318  [32000/124800]\n",
      "loss: 0.284547  [38400/124800]\n",
      "loss: 0.265338  [44800/124800]\n",
      "loss: 0.405110  [51200/124800]\n",
      "loss: 0.371547  [57600/124800]\n",
      "loss: 0.952190  [64000/124800]\n",
      "loss: 0.532933  [70400/124800]\n",
      "loss: 0.376386  [76800/124800]\n",
      "loss: 0.592173  [83200/124800]\n",
      "loss: 0.845282  [89600/124800]\n",
      "loss: 0.629246  [96000/124800]\n",
      "loss: 0.774724  [102400/124800]\n",
      "loss: 0.511742  [108800/124800]\n",
      "loss: 0.397650  [115200/124800]\n",
      "loss: 0.409856  [121600/124800]\n",
      "Epoch 4\n",
      "-------------------------------\n",
      "loss: 0.476590  [    0/124800]\n",
      "loss: 0.363004  [ 6400/124800]\n",
      "loss: 0.299057  [12800/124800]\n",
      "loss: 0.298930  [19200/124800]\n",
      "loss: 0.344953  [25600/124800]\n",
      "loss: 0.250867  [32000/124800]\n",
      "loss: 0.365303  [38400/124800]\n",
      "loss: 0.487016  [44800/124800]\n",
      "loss: 0.392015  [51200/124800]\n",
      "loss: 0.468317  [57600/124800]\n",
      "loss: 0.539170  [64000/124800]\n",
      "loss: 0.317808  [70400/124800]\n",
      "loss: 0.352060  [76800/124800]\n",
      "loss: 0.325772  [83200/124800]\n",
      "loss: 0.431425  [89600/124800]\n",
      "loss: 0.345298  [96000/124800]\n",
      "loss: 0.395714  [102400/124800]\n",
      "loss: 0.602539  [108800/124800]\n",
      "loss: 0.650247  [115200/124800]\n",
      "loss: 0.656978  [121600/124800]\n",
      "Epoch 5\n",
      "-------------------------------\n",
      "loss: 0.314585  [    0/124800]\n",
      "loss: 0.423996  [ 6400/124800]\n",
      "loss: 0.182643  [12800/124800]\n",
      "loss: 0.409685  [19200/124800]\n",
      "loss: 0.290236  [25600/124800]\n",
      "loss: 0.154356  [32000/124800]\n",
      "loss: 0.246666  [38400/124800]\n",
      "loss: 0.397826  [44800/124800]\n",
      "loss: 0.391912  [51200/124800]\n",
      "loss: 0.243958  [57600/124800]\n",
      "loss: 0.318953  [64000/124800]\n",
      "loss: 0.254176  [70400/124800]\n",
      "loss: 0.357765  [76800/124800]\n",
      "loss: 0.423918  [83200/124800]\n",
      "loss: 0.403414  [89600/124800]\n",
      "loss: 0.491744  [96000/124800]\n",
      "loss: 0.409837  [102400/124800]\n",
      "loss: 0.146235  [108800/124800]\n",
      "loss: 0.301253  [115200/124800]\n",
      "loss: 0.278845  [121600/124800]\n",
      "Epoch 6\n",
      "-------------------------------\n",
      "loss: 0.353020  [    0/124800]\n",
      "loss: 0.275743  [ 6400/124800]\n",
      "loss: 0.292733  [12800/124800]\n",
      "loss: 0.269647  [19200/124800]\n",
      "loss: 0.201890  [25600/124800]\n",
      "loss: 0.346759  [32000/124800]\n",
      "loss: 0.315509  [38400/124800]\n",
      "loss: 0.371701  [44800/124800]\n",
      "loss: 0.291043  [51200/124800]\n",
      "loss: 0.288382  [57600/124800]\n",
      "loss: 0.246107  [64000/124800]\n",
      "loss: 0.439424  [70400/124800]\n",
      "loss: 0.118974  [76800/124800]\n",
      "loss: 0.449657  [83200/124800]\n",
      "loss: 0.166882  [89600/124800]\n",
      "loss: 0.207651  [96000/124800]\n",
      "loss: 0.316312  [102400/124800]\n",
      "loss: 0.239765  [108800/124800]\n",
      "loss: 0.509182  [115200/124800]\n",
      "loss: 0.248633  [121600/124800]\n",
      "Epoch 7\n",
      "-------------------------------\n",
      "loss: 0.191710  [    0/124800]\n",
      "loss: 0.279626  [ 6400/124800]\n",
      "loss: 0.213443  [12800/124800]\n",
      "loss: 0.383434  [19200/124800]\n",
      "loss: 0.226466  [25600/124800]\n",
      "loss: 0.209400  [32000/124800]\n",
      "loss: 0.243504  [38400/124800]\n",
      "loss: 0.346528  [44800/124800]\n",
      "loss: 0.149508  [51200/124800]\n",
      "loss: 0.242978  [57600/124800]\n",
      "loss: 0.361627  [64000/124800]\n",
      "loss: 0.370521  [70400/124800]\n",
      "loss: 0.291461  [76800/124800]\n",
      "loss: 0.158781  [83200/124800]\n",
      "loss: 0.371151  [89600/124800]\n",
      "loss: 0.255862  [96000/124800]\n",
      "loss: 0.134578  [102400/124800]\n",
      "loss: 0.480340  [108800/124800]\n",
      "loss: 0.257672  [115200/124800]\n",
      "loss: 0.352998  [121600/124800]\n",
      "Epoch 8\n",
      "-------------------------------\n",
      "loss: 0.172925  [    0/124800]\n",
      "loss: 0.276136  [ 6400/124800]\n",
      "loss: 0.400490  [12800/124800]\n",
      "loss: 0.279233  [19200/124800]\n",
      "loss: 0.255599  [25600/124800]\n",
      "loss: 0.266880  [32000/124800]\n",
      "loss: 0.326642  [38400/124800]\n",
      "loss: 0.229042  [44800/124800]\n",
      "loss: 0.371263  [51200/124800]\n",
      "loss: 0.094412  [57600/124800]\n",
      "loss: 0.260035  [64000/124800]\n",
      "loss: 0.207744  [70400/124800]\n",
      "loss: 0.196776  [76800/124800]\n",
      "loss: 0.381796  [83200/124800]\n",
      "loss: 0.173414  [89600/124800]\n",
      "loss: 0.592472  [96000/124800]\n",
      "loss: 0.554537  [102400/124800]\n",
      "loss: 0.387382  [108800/124800]\n",
      "loss: 0.166766  [115200/124800]\n",
      "loss: 0.367893  [121600/124800]\n",
      "Epoch 9\n",
      "-------------------------------\n",
      "loss: 0.185027  [    0/124800]\n",
      "loss: 0.267909  [ 6400/124800]\n",
      "loss: 0.190088  [12800/124800]\n",
      "loss: 0.174118  [19200/124800]\n",
      "loss: 0.172452  [25600/124800]\n",
      "loss: 0.134256  [32000/124800]\n",
      "loss: 0.182479  [38400/124800]\n",
      "loss: 0.225689  [44800/124800]\n",
      "loss: 0.233891  [51200/124800]\n",
      "loss: 0.276377  [57600/124800]\n",
      "loss: 0.248308  [64000/124800]\n",
      "loss: 0.184935  [70400/124800]\n",
      "loss: 0.257610  [76800/124800]\n",
      "loss: 0.184370  [83200/124800]\n",
      "loss: 0.094557  [89600/124800]\n",
      "loss: 0.329597  [96000/124800]\n",
      "loss: 0.249974  [102400/124800]\n",
      "loss: 0.358493  [108800/124800]\n",
      "loss: 0.527482  [115200/124800]\n",
      "loss: 0.284474  [121600/124800]\n",
      "Epoch 10\n",
      "-------------------------------\n",
      "loss: 0.241772  [    0/124800]\n",
      "loss: 0.226483  [ 6400/124800]\n",
      "loss: 0.283132  [12800/124800]\n",
      "loss: 0.207864  [19200/124800]\n",
      "loss: 0.128805  [25600/124800]\n",
      "loss: 0.150899  [32000/124800]\n",
      "loss: 0.145095  [38400/124800]\n",
      "loss: 0.255255  [44800/124800]\n",
      "loss: 0.194909  [51200/124800]\n",
      "loss: 0.213624  [57600/124800]\n",
      "loss: 0.134499  [64000/124800]\n",
      "loss: 0.081084  [70400/124800]\n",
      "loss: 0.266792  [76800/124800]\n",
      "loss: 0.341902  [83200/124800]\n",
      "loss: 0.096246  [89600/124800]\n",
      "loss: 0.406111  [96000/124800]\n",
      "loss: 0.252204  [102400/124800]\n",
      "loss: 0.299259  [108800/124800]\n",
      "loss: 0.209777  [115200/124800]\n",
      "loss: 0.324015  [121600/124800]\n",
      "training finished\n"
     ]
    }
   ],
   "source": [
    "for t in range(epochs):\n",
    "    print(f\"Epoch {t+1}\\n-------------------------------\")\n",
    "    size = len(train_dataloader.dataset)\n",
    "    for batch, (x, y) in enumerate(train_dataloader):\n",
    "        x, y = x.to(\"cuda\"), y.to(\"cuda\")\n",
    "        pred = model(x)\n",
    "        loss = loss_fn(pred, y)\n",
    "        # print(loss)\n",
    "        optimizer.zero_grad()\n",
    "        loss.backward()\n",
    "        optimizer.step()\n",
    "\n",
    "        with torch.no_grad():\n",
    "            if batch % 100 == 0:\n",
    "                loss, current = loss.item(), batch * len(x)\n",
    "                print(f\"loss: {loss:>7f}  [{current:>5d}/{size:>5d}]\")\n",
    "print('training finished')"
   ]
  },
  {
   "cell_type": "code",
   "execution_count": 16,
   "id": "25f40d17",
   "metadata": {},
   "outputs": [],
   "source": [
    "torch.save(model, \"noice.pth\")"
   ]
  },
  {
   "cell_type": "code",
   "execution_count": 17,
   "id": "0359695d",
   "metadata": {},
   "outputs": [],
   "source": [
    "count = 0\n",
    "\n",
    "m_test = X_test.shape[0]\n",
    "\n",
    "with torch.no_grad():\n",
    "    for (x, y) in test_dataloader:\n",
    "        x, y = x.to(\"cuda\"), y.to(\"cuda\")\n",
    "        count += torch.sum(torch.argmax(model(x),1) == torch.argmax(y,1))"
   ]
  },
  {
   "cell_type": "code",
   "execution_count": 18,
   "id": "64e8dc09",
   "metadata": {},
   "outputs": [
    {
     "data": {
      "text/plain": [
       "tensor(18442, device='cuda:0')"
      ]
     },
     "execution_count": 18,
     "metadata": {},
     "output_type": "execute_result"
    }
   ],
   "source": [
    "count"
   ]
  },
  {
   "cell_type": "code",
   "execution_count": 19,
   "id": "f61693ae",
   "metadata": {},
   "outputs": [
    {
     "data": {
      "text/plain": [
       "tensor(88.6635, device='cuda:0')"
      ]
     },
     "execution_count": 19,
     "metadata": {},
     "output_type": "execute_result"
    }
   ],
   "source": [
    "count/m_test * 100"
   ]
  }
 ],
 "metadata": {
  "kernelspec": {
   "display_name": "Python 3 (ipykernel)",
   "language": "python",
   "name": "python3"
  },
  "language_info": {
   "codemirror_mode": {
    "name": "ipython",
    "version": 3
   },
   "file_extension": ".py",
   "mimetype": "text/x-python",
   "name": "python",
   "nbconvert_exporter": "python",
   "pygments_lexer": "ipython3",
   "version": "3.10.5"
  },
  "vscode": {
   "interpreter": {
    "hash": "e7370f93d1d0cde622a1f8e1c04877d8463912d04d973331ad4851f04de6915a"
   }
  }
 },
 "nbformat": 4,
 "nbformat_minor": 5
}
