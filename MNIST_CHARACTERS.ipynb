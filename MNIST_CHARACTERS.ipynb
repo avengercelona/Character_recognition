{
 "cells": [
  {
   "cell_type": "markdown",
   "id": "ec51822c",
   "metadata": {},
   "source": [
    "# Aquire dataset"
   ]
  },
  {
   "cell_type": "code",
   "execution_count": 1,
   "id": "0bab2c3d",
   "metadata": {},
   "outputs": [],
   "source": [
    "import numpy as np\n",
    "import matplotlib.pyplot as plt\n",
    "import emnist\n",
    "\n",
    "import torch \n",
    "import torch.nn as nn\n",
    "import torch.nn.functional as F\n",
    "\n",
    "from torch.utils.data import TensorDataset, DataLoader\n",
    "import torch.optim as optim"
   ]
  },
  {
   "cell_type": "code",
   "execution_count": 2,
   "id": "f2a872d9",
   "metadata": {},
   "outputs": [],
   "source": [
    "def get_data():\n",
    "    X, Y = emnist.extract_training_samples('letters')\n",
    "    X_test, Y_test = emnist.extract_test_samples('letters')\n",
    "\n",
    "    return X, Y- 1, X_test, Y_test - 1"
   ]
  },
  {
   "cell_type": "code",
   "execution_count": 3,
   "id": "69ff0e2d",
   "metadata": {},
   "outputs": [],
   "source": [
    "X, m_Y, X_test, m_Y_test = get_data()"
   ]
  },
  {
   "cell_type": "code",
   "execution_count": 4,
   "id": "208caa5e",
   "metadata": {},
   "outputs": [
    {
     "data": {
      "text/plain": [
       "(124800, 28, 28)"
      ]
     },
     "execution_count": 4,
     "metadata": {},
     "output_type": "execute_result"
    }
   ],
   "source": [
    "X.shape"
   ]
  },
  {
   "cell_type": "code",
   "execution_count": 5,
   "id": "831c76e0",
   "metadata": {},
   "outputs": [],
   "source": [
    "X = torch.tensor(np.array(X), dtype=torch.float)\n",
    "X_test = torch.tensor(np.array(X_test), dtype=torch.float)"
   ]
  },
  {
   "cell_type": "code",
   "execution_count": 6,
   "id": "442c4d54",
   "metadata": {},
   "outputs": [],
   "source": [
    "m = X.shape[0]"
   ]
  },
  {
   "cell_type": "code",
   "execution_count": 7,
   "id": "69f7348e",
   "metadata": {},
   "outputs": [
    {
     "data": {
      "text/plain": [
       "124800"
      ]
     },
     "execution_count": 7,
     "metadata": {},
     "output_type": "execute_result"
    }
   ],
   "source": [
    "m"
   ]
  },
  {
   "cell_type": "code",
   "execution_count": 8,
   "id": "c2868208",
   "metadata": {},
   "outputs": [],
   "source": [
    "Y = torch.zeros(m,26, dtype = torch.float)\n",
    "Y_test = torch.zeros(X_test.shape[0],26, dtype = torch.long)\n",
    "for i in range(0,m):\n",
    "    Y[i, m_Y[i]] = 1\n",
    "for i in range(0,X_test.shape[0]):\n",
    "    Y_test[i, m_Y_test[i]] = 1"
   ]
  },
  {
   "cell_type": "code",
   "execution_count": 9,
   "id": "249ad6bf",
   "metadata": {},
   "outputs": [],
   "source": [
    "train_dataset = TensorDataset(X, Y)\n",
    "train_dataloader = DataLoader(train_dataset, batch_size=64, shuffle=True)\n",
    "\n",
    "test_dataset = TensorDataset(X_test, Y_test)\n",
    "test_dataloader = DataLoader(test_dataset, batch_size=64, shuffle=True)"
   ]
  },
  {
   "cell_type": "code",
   "execution_count": 10,
   "id": "e40f7355",
   "metadata": {},
   "outputs": [],
   "source": [
    "def show_img(i):\n",
    "    plt.imshow(i)"
   ]
  },
  {
   "cell_type": "code",
   "execution_count": 11,
   "id": "d6e67f29",
   "metadata": {},
   "outputs": [
    {
     "data": {
      "image/png": "[encoded data removed]",
      "text/plain": [
       "<Figure size 432x288 with 1 Axes>"
      ]
     },
     "metadata": {
      "needs_background": "light"
     },
     "output_type": "display_data"
    }
   ],
   "source": [
    "show_img(X[0])"
   ]
  },
  {
   "cell_type": "code",
   "execution_count": 12,
   "id": "d8571bec",
   "metadata": {},
   "outputs": [],
   "source": [
    "class Net(nn.Module):\n",
    "    def __init__(self):\n",
    "        super().__init__()\n",
    "        self.conv1 = nn.Conv2d(1,6,5)\n",
    "        self.pool = nn.MaxPool2d(2,2)\n",
    "        self.conv2 = nn.Conv2d(6, 16, 5)\n",
    "        self.fc1 = nn.Linear(16*4*4,180)\n",
    "        self.fc2 = nn.Linear(180,80)\n",
    "        self.fc3 = nn.Linear(80,26)\n",
    "    \n",
    "    def forward(self, x):\n",
    "        x = self.pool(F.relu(self.conv1(x)))\n",
    "        x = self.pool(F.relu(self.conv2(x)))\n",
    "        x = torch.flatten(x, 1)\n",
    "        x = F.relu(self.fc1(x))\n",
    "        x = F.relu(self.fc2(x))\n",
    "        x = self.fc3(x)\n",
    "        #x = F.softmax(self.fc3(x), dim = -1)\n",
    "        return x\n",
    "\n",
    "model = Net().to(\"cuda\")"
   ]
  },
  {
   "cell_type": "code",
   "execution_count": 13,
   "id": "345488e0",
   "metadata": {},
   "outputs": [
    {
     "data": {
      "text/plain": [
       "torch.Size([64, 26])"
      ]
     },
     "execution_count": 13,
     "metadata": {},
     "output_type": "execute_result"
    }
   ],
   "source": [
    "demo_tensor = torch.rand(64,1,28,28, device='cuda')\n",
    "model(demo_tensor).shape"
   ]
  },
  {
   "cell_type": "code",
   "execution_count": 14,
   "id": "226509bd",
   "metadata": {},
   "outputs": [],
   "source": [
    "#constants \n",
    "\n",
    "learning_rate = 0.01\n",
    "batch_size = 64\n",
    "epochs = 6"
   ]
  },
  {
   "cell_type": "code",
   "execution_count": 15,
   "id": "07537694",
   "metadata": {},
   "outputs": [],
   "source": [
    "loss_fn = nn.CrossEntropyLoss()"
   ]
  },
  {
   "cell_type": "code",
   "execution_count": 16,
   "id": "de792e5a",
   "metadata": {},
   "outputs": [],
   "source": [
    "optimizer = optim.SGD(model.parameters(), lr = learning_rate)"
   ]
  },
  {
   "cell_type": "code",
   "execution_count": 17,
   "id": "121b3e85",
   "metadata": {},
   "outputs": [
    {
     "name": "stdout",
     "output_type": "stream",
     "text": [
      "Epoch 1\n",
      "-------------------------------\n",
      "loss: 5.328837  [    0/124800]\n",
      "loss: 1.831570  [ 6400/124800]\n",
      "loss: 1.048697  [12800/124800]\n",
      "loss: 0.719578  [19200/124800]\n",
      "loss: 0.502145  [25600/124800]\n",
      "loss: 0.303658  [32000/124800]\n",
      "loss: 0.368595  [38400/124800]\n",
      "loss: 0.411579  [44800/124800]\n",
      "loss: 0.324050  [51200/124800]\n",
      "loss: 0.498865  [57600/124800]\n",
      "loss: 0.555361  [64000/124800]\n",
      "loss: 0.365463  [70400/124800]\n",
      "loss: 0.587256  [76800/124800]\n",
      "loss: 0.409623  [83200/124800]\n",
      "loss: 0.338067  [89600/124800]\n",
      "loss: 0.659792  [96000/124800]\n",
      "loss: 0.354252  [102400/124800]\n",
      "loss: 0.410724  [108800/124800]\n",
      "loss: 0.375634  [115200/124800]\n",
      "loss: 0.315309  [121600/124800]\n",
      "Epoch 2\n",
      "-------------------------------\n",
      "loss: 0.229727  [    0/124800]\n",
      "loss: 0.273487  [ 6400/124800]\n",
      "loss: 0.238425  [12800/124800]\n",
      "loss: 0.549547  [19200/124800]\n",
      "loss: 0.263314  [25600/124800]\n",
      "loss: 0.560152  [32000/124800]\n",
      "loss: 0.255224  [38400/124800]\n",
      "loss: 0.220784  [44800/124800]\n",
      "loss: 0.250776  [51200/124800]\n",
      "loss: 0.221181  [57600/124800]\n",
      "loss: 0.222219  [64000/124800]\n",
      "loss: 0.423762  [70400/124800]\n",
      "loss: 0.285283  [76800/124800]\n",
      "loss: 0.248612  [83200/124800]\n",
      "loss: 0.155232  [89600/124800]\n",
      "loss: 0.278747  [96000/124800]\n",
      "loss: 0.250768  [102400/124800]\n",
      "loss: 0.399075  [108800/124800]\n",
      "loss: 0.269962  [115200/124800]\n",
      "loss: 0.315211  [121600/124800]\n",
      "Epoch 3\n",
      "-------------------------------\n",
      "loss: 0.129340  [    0/124800]\n",
      "loss: 0.160440  [ 6400/124800]\n",
      "loss: 0.113075  [12800/124800]\n",
      "loss: 0.237937  [19200/124800]\n",
      "loss: 0.139860  [25600/124800]\n",
      "loss: 0.208569  [32000/124800]\n",
      "loss: 0.133971  [38400/124800]\n",
      "loss: 0.323987  [44800/124800]\n",
      "loss: 0.286672  [51200/124800]\n",
      "loss: 0.232778  [57600/124800]\n",
      "loss: 0.167504  [64000/124800]\n",
      "loss: 0.326513  [70400/124800]\n",
      "loss: 0.473813  [76800/124800]\n",
      "loss: 0.348350  [83200/124800]\n",
      "loss: 0.479295  [89600/124800]\n",
      "loss: 0.305517  [96000/124800]\n",
      "loss: 0.379028  [102400/124800]\n",
      "loss: 0.142767  [108800/124800]\n",
      "loss: 0.110504  [115200/124800]\n",
      "loss: 0.283593  [121600/124800]\n",
      "Epoch 4\n",
      "-------------------------------\n",
      "loss: 0.099823  [    0/124800]\n",
      "loss: 0.324454  [ 6400/124800]\n",
      "loss: 0.122568  [12800/124800]\n",
      "loss: 0.271635  [19200/124800]\n",
      "loss: 0.147755  [25600/124800]\n",
      "loss: 0.058726  [32000/124800]\n",
      "loss: 0.232072  [38400/124800]\n",
      "loss: 0.050585  [44800/124800]\n",
      "loss: 0.259768  [51200/124800]\n",
      "loss: 0.152730  [57600/124800]\n",
      "loss: 0.186061  [64000/124800]\n",
      "loss: 0.133449  [70400/124800]\n",
      "loss: 0.477374  [76800/124800]\n",
      "loss: 0.159330  [83200/124800]\n",
      "loss: 0.110313  [89600/124800]\n",
      "loss: 0.224402  [96000/124800]\n",
      "loss: 0.111646  [102400/124800]\n",
      "loss: 0.247467  [108800/124800]\n",
      "loss: 0.125154  [115200/124800]\n",
      "loss: 0.096196  [121600/124800]\n",
      "Epoch 5\n",
      "-------------------------------\n",
      "loss: 0.243686  [    0/124800]\n",
      "loss: 0.210304  [ 6400/124800]\n",
      "loss: 0.261030  [12800/124800]\n",
      "loss: 0.158038  [19200/124800]\n",
      "loss: 0.250477  [25600/124800]\n",
      "loss: 0.188098  [32000/124800]\n",
      "loss: 0.542850  [38400/124800]\n",
      "loss: 0.263188  [44800/124800]\n",
      "loss: 0.107249  [51200/124800]\n",
      "loss: 0.214504  [57600/124800]\n",
      "loss: 0.363544  [64000/124800]\n",
      "loss: 0.107960  [70400/124800]\n",
      "loss: 0.117466  [76800/124800]\n",
      "loss: 0.114074  [83200/124800]\n",
      "loss: 0.169493  [89600/124800]\n",
      "loss: 0.233806  [96000/124800]\n",
      "loss: 0.240833  [102400/124800]\n",
      "loss: 0.288635  [108800/124800]\n",
      "loss: 0.170611  [115200/124800]\n",
      "loss: 0.159557  [121600/124800]\n",
      "Epoch 6\n",
      "-------------------------------\n",
      "loss: 0.172254  [    0/124800]\n",
      "loss: 0.221790  [ 6400/124800]\n",
      "loss: 0.163829  [12800/124800]\n",
      "loss: 0.295954  [19200/124800]\n",
      "loss: 0.197294  [25600/124800]\n",
      "loss: 0.177154  [32000/124800]\n",
      "loss: 0.126326  [38400/124800]\n",
      "loss: 0.067367  [44800/124800]\n",
      "loss: 0.231411  [51200/124800]\n",
      "loss: 0.196619  [57600/124800]\n",
      "loss: 0.200269  [64000/124800]\n",
      "loss: 0.122635  [70400/124800]\n",
      "loss: 0.200170  [76800/124800]\n",
      "loss: 0.389288  [83200/124800]\n",
      "loss: 0.127301  [89600/124800]\n",
      "loss: 0.184710  [96000/124800]\n",
      "loss: 0.140206  [102400/124800]\n",
      "loss: 0.170492  [108800/124800]\n",
      "loss: 0.504971  [115200/124800]\n",
      "loss: 0.157961  [121600/124800]\n",
      "training finished\n"
     ]
    }
   ],
   "source": [
    "for t in range(epochs):\n",
    "    print(f\"Epoch {t+1}\\n-------------------------------\")\n",
    "    size = len(train_dataloader.dataset)\n",
    "    for batch, (x, y) in enumerate(train_dataloader):\n",
    "        x = torch.unsqueeze(x ,1)\n",
    "        x, y = x.to(\"cuda\"), y.to(\"cuda\")\n",
    "        pred = model(x)\n",
    "        loss = loss_fn(pred, y)\n",
    "        # print(loss)\n",
    "        optimizer.zero_grad()\n",
    "        loss.backward()\n",
    "        optimizer.step()\n",
    "\n",
    "        with torch.no_grad():\n",
    "            if batch % 100 == 0:\n",
    "                loss, current = loss.item(), batch * len(x)\n",
    "                print(f\"loss: {loss:>7f}  [{current:>5d}/{size:>5d}]\")\n",
    "print('training finished')"
   ]
  },
  {
   "cell_type": "code",
   "execution_count": 18,
   "id": "25f40d17",
   "metadata": {},
   "outputs": [],
   "source": [
    "torch.save(model, \"noice.pth\")"
   ]
  },
  {
   "cell_type": "code",
   "execution_count": 21,
   "id": "0359695d",
   "metadata": {},
   "outputs": [],
   "source": [
    "count = 0\n",
    "\n",
    "m_test = X_test.shape[0]\n",
    "\n",
    "with torch.no_grad():\n",
    "    for (x, y) in test_dataloader:\n",
    "        x = torch.unsqueeze(x, 1)\n",
    "        x, y = x.to(\"cuda\"), y.to(\"cuda\")\n",
    "        count += torch.sum(torch.argmax(model(x),1) == torch.argmax(y,1))"
   ]
  },
  {
   "cell_type": "code",
   "execution_count": 22,
   "id": "64e8dc09",
   "metadata": {},
   "outputs": [
    {
     "data": {
      "text/plain": [
       "tensor(19164, device='cuda:0')"
      ]
     },
     "execution_count": 22,
     "metadata": {},
     "output_type": "execute_result"
    }
   ],
   "source": [
    "count"
   ]
  },
  {
   "cell_type": "code",
   "execution_count": 23,
   "id": "f61693ae",
   "metadata": {},
   "outputs": [
    {
     "data": {
      "text/plain": [
       "tensor(92.1346, device='cuda:0')"
      ]
     },
     "execution_count": 23,
     "metadata": {},
     "output_type": "execute_result"
    }
   ],
   "source": [
    "count/m_test * 100"
   ]
  },
  {
   "cell_type": "code",
   "execution_count": null,
   "id": "1448dc38",
   "metadata": {},
   "outputs": [
    {
     "data": {
      "image/png": "[encoded data removed]",
      "text/plain": [
       "<Figure size 432x288 with 1 Axes>"
      ]
     },
     "metadata": {
      "needs_background": "light"
     },
     "output_type": "display_data"
    }
   ],
   "source": [
    "show_img(X_test[1])"
   ]
  },
  {
   "cell_type": "code",
   "execution_count": null,
   "id": "20d8ca09",
   "metadata": {},
   "outputs": [
    {
     "data": {
      "text/plain": [
       "'b'"
      ]
     },
     "execution_count": 22,
     "metadata": {},
     "output_type": "execute_result"
    }
   ],
   "source": [
    "a = 'a'\n",
    "chr(ord(a) + 1)"
   ]
  },
  {
   "cell_type": "code",
   "execution_count": 39,
   "id": "de3687c8",
   "metadata": {},
   "outputs": [
    {
     "data": {
      "text/plain": [
       "torch.Size([1, 26])"
      ]
     },
     "execution_count": 39,
     "metadata": {},
     "output_type": "execute_result"
    }
   ],
   "source": [
    "rand_tensor = torch.rand(1,1,28,28,device='cuda')\n",
    "model(rand_tensor).shape"
   ]
  },
  {
   "cell_type": "code",
   "execution_count": 44,
   "id": "cf367346",
   "metadata": {},
   "outputs": [
    {
     "data": {
      "text/plain": [
       "'l'"
      ]
     },
     "execution_count": 44,
     "metadata": {},
     "output_type": "execute_result"
    },
    {
     "data": {
      "image/png": "[encoded data removed]",
      "text/plain": [
       "<Figure size 432x288 with 1 Axes>"
      ]
     },
     "metadata": {
      "needs_background": "light"
     },
     "output_type": "display_data"
    }
   ],
   "source": [
    "arr = X_test[9402]\n",
    "show_img(arr)\n",
    "test_tensor = (arr).to(\"cuda\")\n",
    "test_tensor = torch.unsqueeze(test_tensor, 0)\n",
    "#test_tensor = torch.unsqueeze(test_tensor, 0)\n",
    "letters = [chr(ord('a') + i) for i in range(26)]\n",
    "\n",
    "letters[torch.argmax(model(test_tensor.unsqueeze(dim=0))).item()]"
   ]
  },
  {
   "cell_type": "code",
   "execution_count": null,
   "id": "6e8d644b",
   "metadata": {},
   "outputs": [
    {
     "data": {
      "text/plain": [
       "'m'"
      ]
     },
     "execution_count": 24,
     "metadata": {},
     "output_type": "execute_result"
    }
   ],
   "source": [
    "letters[torch.argmax(Y_test[10000]).item()]"
   ]
  },
  {
   "cell_type": "code",
   "execution_count": 46,
   "id": "b6c4024a",
   "metadata": {},
   "outputs": [
    {
     "name": "stdout",
     "output_type": "stream",
     "text": [
      "44\n",
      "a\n"
     ]
    },
    {
     "data": {
      "image/png": "[encoded data removed]",
      "text/plain": [
       "<Figure size 432x288 with 1 Axes>"
      ]
     },
     "metadata": {
      "needs_background": "light"
     },
     "output_type": "display_data"
    }
   ],
   "source": [
    "for i in range(42,m_test):\n",
    "    arr = X_test[i]\n",
    "    test_tensor = (arr).to(\"cuda\")\n",
    "    test_tensor = torch.unsqueeze(test_tensor, 0)\n",
    "    pred = torch.argmax(model(test_tensor.unsqueeze(dim=0))).item() \n",
    "    truth = torch.argmax(Y_test[i]).item()\n",
    "    if pred != truth:\n",
    "        show_img(X[i])\n",
    "        print(i)\n",
    "        print(letters[truth])\n",
    "        break\n",
    "\n",
    "\n",
    "\n"
   ]
  }
 ],
 "metadata": {
  "kernelspec": {
   "display_name": "Python 3 (ipykernel)",
   "language": "python",
   "name": "python3"
  },
  "language_info": {
   "codemirror_mode": {
    "name": "ipython",
    "version": 3
   },
   "file_extension": ".py",
   "mimetype": "text/x-python",
   "name": "python",
   "nbconvert_exporter": "python",
   "pygments_lexer": "ipython3",
   "version": "3.10.5"
  },
  "vscode": {
   "interpreter": {
    "hash": "e7370f93d1d0cde622a1f8e1c04877d8463912d04d973331ad4851f04de6915a"
   }
  }
 },
 "nbformat": 4,
 "nbformat_minor": 5
}
