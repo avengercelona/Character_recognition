{
 "cells": [
  {
   "cell_type": "markdown",
   "id": "ec51822c",
   "metadata": {},
   "source": [
    "# Aquire dataset"
   ]
  },
  {
   "cell_type": "code",
   "execution_count": 1,
   "id": "0bab2c3d",
   "metadata": {},
   "outputs": [],
   "source": [
    "import numpy as np\n",
    "import matplotlib.pyplot as plt\n",
    "import emnist\n",
    "\n",
    "import torch \n",
    "import torch.nn as nn\n",
    "import torch.nn.functional as F\n",
    "\n",
    "from torch.utils.data import TensorDataset, DataLoader\n",
    "import torch.optim as optim"
   ]
  },
  {
   "cell_type": "code",
   "execution_count": 2,
   "id": "f2a872d9",
   "metadata": {},
   "outputs": [],
   "source": [
    "def get_data():\n",
    "    X, Y = emnist.extract_training_samples('letters')\n",
    "    X_test, Y_test = emnist.extract_test_samples('letters')\n",
    "\n",
    "    return X, Y- 1, X_test, Y_test - 1"
   ]
  },
  {
   "cell_type": "code",
   "execution_count": 3,
   "id": "69ff0e2d",
   "metadata": {},
   "outputs": [],
   "source": [
    "X, m_Y, X_test, m_Y_test = get_data()"
   ]
  },
  {
   "cell_type": "code",
   "execution_count": 4,
   "id": "208caa5e",
   "metadata": {},
   "outputs": [
    {
     "data": {
      "text/plain": [
       "(124800, 28, 28)"
      ]
     },
     "execution_count": 4,
     "metadata": {},
     "output_type": "execute_result"
    }
   ],
   "source": [
    "X.shape"
   ]
  },
  {
   "cell_type": "code",
   "execution_count": 5,
   "id": "831c76e0",
   "metadata": {},
   "outputs": [],
   "source": [
    "X = torch.tensor(np.array(X), dtype=torch.float)\n",
    "X_test = torch.tensor(np.array(X_test), dtype=torch.float)"
   ]
  },
  {
   "cell_type": "code",
   "execution_count": 6,
   "id": "442c4d54",
   "metadata": {},
   "outputs": [],
   "source": [
    "m = X.shape[0]"
   ]
  },
  {
   "cell_type": "code",
   "execution_count": 7,
   "id": "c2868208",
   "metadata": {},
   "outputs": [],
   "source": [
    "Y = torch.zeros(m,26, dtype = torch.float)\n",
    "Y_test = torch.zeros(X_test.shape[0],26, dtype = torch.long)\n",
    "for i in range(0,m):\n",
    "    Y[i, m_Y[i]] = 1\n",
    "for i in range(0,X_test.shape[0]):\n",
    "    Y_test[i, m_Y_test[i]] = 1"
   ]
  },
  {
   "cell_type": "code",
   "execution_count": 8,
   "id": "249ad6bf",
   "metadata": {},
   "outputs": [],
   "source": [
    "train_dataset = TensorDataset(X, Y)\n",
    "train_dataloader = DataLoader(train_dataset, batch_size=64, shuffle=True)\n",
    "\n",
    "test_dataset = TensorDataset(X_test, Y_test)\n",
    "test_dataloader = DataLoader(test_dataset, batch_size=64, shuffle=True)"
   ]
  },
  {
   "cell_type": "code",
   "execution_count": 9,
   "id": "e40f7355",
   "metadata": {},
   "outputs": [],
   "source": [
    "def show_img(i):\n",
    "    plt.imshow(i)"
   ]
  },
  {
   "cell_type": "code",
   "execution_count": 10,
   "id": "d6e67f29",
   "metadata": {},
   "outputs": [
    {
     "data": {
      "image/png": "[encoded data removed]",
      "text/plain": [
       "<Figure size 432x288 with 1 Axes>"
      ]
     },
     "metadata": {
      "needs_background": "light"
     },
     "output_type": "display_data"
    }
   ],
   "source": [
    "show_img(X[0])"
   ]
  },
  {
   "cell_type": "code",
   "execution_count": 11,
   "id": "d8571bec",
   "metadata": {},
   "outputs": [],
   "source": [
    "class Net(nn.Module):\n",
    "    def __init__(self):\n",
    "        super().__init__()\n",
    "        self.fc1 = nn.Linear(28*28,512)\n",
    "        self.fc2 = nn.Linear(512,120)\n",
    "        self.fc3 = nn.Linear(120,26)\n",
    "    \n",
    "    def forward(self, x):\n",
    "        x = F.relu(self.fc1(x))\n",
    "        x = F.relu(self.fc2(x))\n",
    "        x = F.softmax(self.fc3(x),dim=0)\n",
    "        return x\n",
    "\n",
    "model = Net()"
   ]
  },
  {
   "cell_type": "code",
   "execution_count": 12,
   "id": "226509bd",
   "metadata": {},
   "outputs": [],
   "source": [
    "#constants \n",
    "\n",
    "learning_rate = 0.001\n",
    "batch_size = 64\n",
    "epochs = 10"
   ]
  },
  {
   "cell_type": "code",
   "execution_count": 13,
   "id": "07537694",
   "metadata": {},
   "outputs": [],
   "source": [
    "loss_fn = nn.CrossEntropyLoss()"
   ]
  },
  {
   "cell_type": "code",
   "execution_count": 14,
   "id": "de792e5a",
   "metadata": {},
   "outputs": [],
   "source": [
    "optimizer = optim.SGD(model.parameters(), lr=learning_rate, momentum=0.9)"
   ]
  },
  {
   "cell_type": "code",
   "execution_count": 15,
   "id": "546fad6a",
   "metadata": {},
   "outputs": [
    {
     "data": {
      "text/plain": [
       "tensor([2.5638e-15, 1.1502e-09, 5.2334e-13, 9.9998e-01, 1.5469e-14, 1.0977e-18,\n",
       "        3.1923e-14, 4.7668e-17, 2.5874e-12, 4.5282e-22, 1.8749e-06, 9.9583e-21,\n",
       "        5.8076e-15, 4.6915e-14, 2.0719e-05, 2.7950e-15, 3.1957e-24, 1.9050e-16,\n",
       "        2.4506e-09, 1.5559e-17, 1.0545e-15, 1.1015e-11, 3.3628e-09, 2.4418e-17,\n",
       "        1.4636e-12, 3.7262e-16], grad_fn=<SoftmaxBackward0>)"
      ]
     },
     "execution_count": 15,
     "metadata": {},
     "output_type": "execute_result"
    }
   ],
   "source": [
    "model(X[0].flatten())"
   ]
  },
  {
   "cell_type": "code",
   "execution_count": 16,
   "id": "121b3e85",
   "metadata": {},
   "outputs": [
    {
     "name": "stdout",
     "output_type": "stream",
     "text": [
      "Epoch 1\n",
      "-------------------------------\n",
      "loss: 3.275935  [    0/124800]\n",
      "loss: 3.178238  [ 6400/124800]\n",
      "loss: 3.112204  [12800/124800]\n",
      "loss: 3.034708  [19200/124800]\n",
      "loss: 3.021504  [25600/124800]\n",
      "loss: 3.069655  [32000/124800]\n",
      "loss: 2.987993  [38400/124800]\n",
      "loss: 3.008710  [44800/124800]\n",
      "loss: 3.038892  [51200/124800]\n",
      "loss: 3.013395  [57600/124800]\n",
      "loss: 3.023335  [64000/124800]\n",
      "loss: 2.985099  [70400/124800]\n",
      "loss: 3.026540  [76800/124800]\n",
      "loss: 3.017977  [83200/124800]\n",
      "loss: 3.020319  [89600/124800]\n",
      "loss: 2.994710  [96000/124800]\n",
      "loss: 2.916852  [102400/124800]\n",
      "loss: 3.011504  [108800/124800]\n",
      "loss: 3.001291  [115200/124800]\n",
      "loss: 2.968252  [121600/124800]\n",
      "Epoch 2\n",
      "-------------------------------\n",
      "loss: 2.979957  [    0/124800]\n",
      "loss: 2.991023  [ 6400/124800]\n",
      "loss: 3.032188  [12800/124800]\n",
      "loss: 2.929416  [19200/124800]\n",
      "loss: 2.928414  [25600/124800]\n",
      "loss: 2.986498  [32000/124800]\n",
      "loss: 2.969741  [38400/124800]\n",
      "loss: 2.971541  [44800/124800]\n",
      "loss: 2.972030  [51200/124800]\n",
      "loss: 2.990364  [57600/124800]\n",
      "loss: 2.964882  [64000/124800]\n",
      "loss: 3.004488  [70400/124800]\n",
      "loss: 2.988984  [76800/124800]\n",
      "loss: 2.907577  [83200/124800]\n",
      "loss: 2.942154  [89600/124800]\n",
      "loss: 2.989466  [96000/124800]\n",
      "loss: 2.969693  [102400/124800]\n",
      "loss: 2.963042  [108800/124800]\n",
      "loss: 2.999632  [115200/124800]\n",
      "loss: 3.006291  [121600/124800]\n",
      "Epoch 3\n",
      "-------------------------------\n",
      "loss: 2.978631  [    0/124800]\n",
      "loss: 2.906627  [ 6400/124800]\n",
      "loss: 2.980522  [12800/124800]\n",
      "loss: 2.998003  [19200/124800]\n",
      "loss: 2.953949  [25600/124800]\n",
      "loss: 2.927594  [32000/124800]\n",
      "loss: 2.941551  [38400/124800]\n",
      "loss: 2.956877  [44800/124800]\n",
      "loss: 3.042221  [51200/124800]\n",
      "loss: 2.987334  [57600/124800]\n",
      "loss: 2.948000  [64000/124800]\n",
      "loss: 3.002436  [70400/124800]\n",
      "loss: 2.956662  [76800/124800]\n",
      "loss: 2.982507  [83200/124800]\n",
      "loss: 2.939802  [89600/124800]\n",
      "loss: 2.925331  [96000/124800]\n",
      "loss: 2.955679  [102400/124800]\n",
      "loss: 2.924823  [108800/124800]\n",
      "loss: 2.922641  [115200/124800]\n",
      "loss: 2.980548  [121600/124800]\n",
      "Epoch 4\n",
      "-------------------------------\n",
      "loss: 2.944224  [    0/124800]\n",
      "loss: 2.992986  [ 6400/124800]\n",
      "loss: 2.995255  [12800/124800]\n",
      "loss: 2.957005  [19200/124800]\n",
      "loss: 2.958698  [25600/124800]\n",
      "loss: 2.936751  [32000/124800]\n",
      "loss: 2.985624  [38400/124800]\n",
      "loss: 2.944044  [44800/124800]\n",
      "loss: 2.942582  [51200/124800]\n",
      "loss: 2.913808  [57600/124800]\n",
      "loss: 2.945550  [64000/124800]\n",
      "loss: 2.956348  [70400/124800]\n",
      "loss: 2.928175  [76800/124800]\n",
      "loss: 2.952746  [83200/124800]\n",
      "loss: 2.943743  [89600/124800]\n",
      "loss: 2.894312  [96000/124800]\n",
      "loss: 2.946236  [102400/124800]\n",
      "loss: 2.923511  [108800/124800]\n",
      "loss: 2.928630  [115200/124800]\n",
      "loss: 2.898012  [121600/124800]\n",
      "Epoch 5\n",
      "-------------------------------\n",
      "loss: 2.915969  [    0/124800]\n",
      "loss: 2.922714  [ 6400/124800]\n",
      "loss: 2.968933  [12800/124800]\n",
      "loss: 2.984934  [19200/124800]\n",
      "loss: 2.988163  [25600/124800]\n",
      "loss: 2.939070  [32000/124800]\n",
      "loss: 2.958140  [38400/124800]\n",
      "loss: 2.982548  [44800/124800]\n",
      "loss: 2.946161  [51200/124800]\n",
      "loss: 2.942649  [57600/124800]\n",
      "loss: 2.939874  [64000/124800]\n",
      "loss: 2.945513  [70400/124800]\n",
      "loss: 2.928190  [76800/124800]\n",
      "loss: 2.916142  [83200/124800]\n",
      "loss: 2.953509  [89600/124800]\n",
      "loss: 2.954626  [96000/124800]\n",
      "loss: 2.926230  [102400/124800]\n",
      "loss: 2.936993  [108800/124800]\n",
      "loss: 2.955465  [115200/124800]\n",
      "loss: 2.907926  [121600/124800]\n",
      "Epoch 6\n",
      "-------------------------------\n",
      "loss: 2.924104  [    0/124800]\n",
      "loss: 2.988106  [ 6400/124800]\n",
      "loss: 2.934151  [12800/124800]\n",
      "loss: 2.948478  [19200/124800]\n",
      "loss: 2.986367  [25600/124800]\n",
      "loss: 2.926416  [32000/124800]\n",
      "loss: 2.912077  [38400/124800]\n",
      "loss: 2.939766  [44800/124800]\n",
      "loss: 2.908471  [51200/124800]\n",
      "loss: 2.977742  [57600/124800]\n",
      "loss: 2.940261  [64000/124800]\n",
      "loss: 2.971695  [70400/124800]\n",
      "loss: 2.957047  [76800/124800]\n",
      "loss: 2.923677  [83200/124800]\n",
      "loss: 2.939564  [89600/124800]\n",
      "loss: 2.947458  [96000/124800]\n",
      "loss: 2.945268  [102400/124800]\n",
      "loss: 2.939594  [108800/124800]\n",
      "loss: 2.955561  [115200/124800]\n",
      "loss: 2.972068  [121600/124800]\n",
      "Epoch 7\n",
      "-------------------------------\n",
      "loss: 2.939036  [    0/124800]\n",
      "loss: 2.932824  [ 6400/124800]\n",
      "loss: 2.948907  [12800/124800]\n",
      "loss: 2.921550  [19200/124800]\n",
      "loss: 2.951917  [25600/124800]\n",
      "loss: 2.934675  [32000/124800]\n",
      "loss: 2.945316  [38400/124800]\n",
      "loss: 2.939461  [44800/124800]\n",
      "loss: 2.953911  [51200/124800]\n",
      "loss: 2.933111  [57600/124800]\n",
      "loss: 2.970771  [64000/124800]\n",
      "loss: 2.925649  [70400/124800]\n",
      "loss: 2.938305  [76800/124800]\n",
      "loss: 2.984624  [83200/124800]\n",
      "loss: 2.940737  [89600/124800]\n",
      "loss: 2.945467  [96000/124800]\n",
      "loss: 2.954503  [102400/124800]\n",
      "loss: 2.939792  [108800/124800]\n",
      "loss: 2.939216  [115200/124800]\n",
      "loss: 2.935459  [121600/124800]\n",
      "Epoch 8\n",
      "-------------------------------\n",
      "loss: 2.955446  [    0/124800]\n",
      "loss: 2.945352  [ 6400/124800]\n",
      "loss: 2.955400  [12800/124800]\n",
      "loss: 2.956597  [19200/124800]\n",
      "loss: 2.917433  [25600/124800]\n",
      "loss: 2.954937  [32000/124800]\n",
      "loss: 2.944991  [38400/124800]\n",
      "loss: 2.927743  [44800/124800]\n",
      "loss: 2.913029  [51200/124800]\n",
      "loss: 2.954509  [57600/124800]\n",
      "loss: 2.961437  [64000/124800]\n",
      "loss: 2.949019  [70400/124800]\n",
      "loss: 2.960251  [76800/124800]\n",
      "loss: 2.948089  [83200/124800]\n",
      "loss: 2.923104  [89600/124800]\n",
      "loss: 2.903654  [96000/124800]\n",
      "loss: 2.964044  [102400/124800]\n",
      "loss: 2.920953  [108800/124800]\n",
      "loss: 2.907845  [115200/124800]\n",
      "loss: 2.943386  [121600/124800]\n",
      "Epoch 9\n",
      "-------------------------------\n",
      "loss: 2.947101  [    0/124800]\n",
      "loss: 2.933288  [ 6400/124800]\n",
      "loss: 2.923836  [12800/124800]\n",
      "loss: 2.908589  [19200/124800]\n",
      "loss: 2.939600  [25600/124800]\n",
      "loss: 2.930376  [32000/124800]\n",
      "loss: 2.947581  [38400/124800]\n",
      "loss: 2.983141  [44800/124800]\n",
      "loss: 2.923003  [51200/124800]\n",
      "loss: 2.937620  [57600/124800]\n",
      "loss: 2.970246  [64000/124800]\n",
      "loss: 2.937695  [70400/124800]\n",
      "loss: 2.908004  [76800/124800]\n",
      "loss: 2.908540  [83200/124800]\n",
      "loss: 2.938804  [89600/124800]\n",
      "loss: 2.923545  [96000/124800]\n",
      "loss: 2.944972  [102400/124800]\n",
      "loss: 2.917056  [108800/124800]\n",
      "loss: 2.969540  [115200/124800]\n",
      "loss: 2.974985  [121600/124800]\n",
      "Epoch 10\n",
      "-------------------------------\n",
      "loss: 2.931967  [    0/124800]\n",
      "loss: 2.939620  [ 6400/124800]\n",
      "loss: 2.970320  [12800/124800]\n",
      "loss: 2.923575  [19200/124800]\n",
      "loss: 2.945429  [25600/124800]\n",
      "loss: 2.908295  [32000/124800]\n",
      "loss: 2.927747  [38400/124800]\n",
      "loss: 2.907860  [44800/124800]\n",
      "loss: 2.925864  [51200/124800]\n",
      "loss: 2.954073  [57600/124800]\n",
      "loss: 2.947696  [64000/124800]\n",
      "loss: 2.973474  [70400/124800]\n",
      "loss: 2.916971  [76800/124800]\n",
      "loss: 2.938292  [83200/124800]\n",
      "loss: 2.970646  [89600/124800]\n",
      "loss: 2.942874  [96000/124800]\n",
      "loss: 2.923542  [102400/124800]\n",
      "loss: 2.924369  [108800/124800]\n",
      "loss: 2.927163  [115200/124800]\n",
      "loss: 2.907981  [121600/124800]\n",
      "training finished\n"
     ]
    }
   ],
   "source": [
    "for t in range(epochs):\n",
    "    print(f\"Epoch {t+1}\\n-------------------------------\")\n",
    "    size = len(train_dataloader.dataset)\n",
    "    for batch, (x, y) in enumerate(train_dataloader):\n",
    "        optimizer.zero_grad()\n",
    "        pred = model(x.flatten(1))\n",
    "        loss = loss_fn(pred, y)\n",
    "        loss.backward()\n",
    "        optimizer.step()\n",
    "        \n",
    "        if batch % 100 == 0:\n",
    "            loss, current = loss.item(), batch * len(x)\n",
    "            print(f\"loss: {loss:>7f}  [{current:>5d}/{size:>5d}]\")\n",
    "print('training finished')"
   ]
  },
  {
   "cell_type": "code",
   "execution_count": 17,
   "id": "691b3ceb",
   "metadata": {},
   "outputs": [
    {
     "data": {
      "text/plain": [
       "0"
      ]
     },
     "execution_count": 17,
     "metadata": {},
     "output_type": "execute_result"
    }
   ],
   "source": [
    "torch.argmax(model(X_test[5].flatten())).item()"
   ]
  },
  {
   "cell_type": "code",
   "execution_count": 18,
   "id": "7dcddf71",
   "metadata": {},
   "outputs": [
    {
     "data": {
      "image/png": "[encoded data removed]",
      "text/plain": [
       "<Figure size 432x288 with 1 Axes>"
      ]
     },
     "metadata": {
      "needs_background": "light"
     },
     "output_type": "display_data"
    }
   ],
   "source": [
    "show_img(X_test[5])"
   ]
  },
  {
   "cell_type": "code",
   "execution_count": 43,
   "id": "0359695d",
   "metadata": {},
   "outputs": [],
   "source": [
    "count = 0\n",
    "\n",
    "m_test = X_test.shape[0]\n",
    "\n",
    "with torch.no_grad():\n",
    "    for (x, y) in test_dataloader:\n",
    "        count += sum(sum(model(x.flatten(1)) == y)).item()"
   ]
  },
  {
   "cell_type": "code",
   "execution_count": 44,
   "id": "64e8dc09",
   "metadata": {},
   "outputs": [
    {
     "data": {
      "text/plain": [
       "1508"
      ]
     },
     "execution_count": 44,
     "metadata": {},
     "output_type": "execute_result"
    }
   ],
   "source": [
    "count"
   ]
  },
  {
   "cell_type": "code",
   "execution_count": 45,
   "id": "f61693ae",
   "metadata": {},
   "outputs": [
    {
     "data": {
      "text/plain": [
       "7.249999999999999"
      ]
     },
     "execution_count": 45,
     "metadata": {},
     "output_type": "execute_result"
    }
   ],
   "source": [
    "count/m_test * 100"
   ]
  }
 ],
 "metadata": {
  "kernelspec": {
   "display_name": "Python 3 (ipykernel)",
   "language": "python",
   "name": "python3"
  },
  "language_info": {
   "codemirror_mode": {
    "name": "ipython",
    "version": 3
   },
   "file_extension": ".py",
   "mimetype": "text/x-python",
   "name": "python",
   "nbconvert_exporter": "python",
   "pygments_lexer": "ipython3",
   "version": "3.10.5"
  },
  "vscode": {
   "interpreter": {
    "hash": "e7370f93d1d0cde622a1f8e1c04877d8463912d04d973331ad4851f04de6915a"
   }
  }
 },
 "nbformat": 4,
 "nbformat_minor": 5
}
