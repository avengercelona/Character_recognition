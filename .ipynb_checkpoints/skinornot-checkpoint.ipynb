{
 "cells": [
  {
   "cell_type": "markdown",
   "metadata": {
    "id": "aAqmAB6LNRwP"
   },
   "source": []
  },
  {
   "cell_type": "code",
   "execution_count": 1,
   "metadata": {
    "id": "jRFiBUAc1aLM"
   },
   "outputs": [],
   "source": [
    "import torch\n",
    "import torch.nn as nn\n",
    "import torch.nn.functional as F\n",
    "from torch.utils.data import TensorDataset, DataLoader\n",
    "\n",
    "import numpy as np\n",
    "import random"
   ]
  },
  {
   "cell_type": "code",
   "execution_count": 2,
   "metadata": {
    "id": "FyAkzk2Z9kdC"
   },
   "outputs": [],
   "source": [
    "class Net(nn.Module):\n",
    "    def __init__(self):\n",
    "        super().__init__()\n",
    "        self.fc1 = nn.Linear(3,4)\n",
    "        self.fc2 = nn.Linear(4,2)\n",
    "        self.fc3 = nn.Linear(2,1)\n",
    "\n",
    "    def forward(self, x):\n",
    "        x = F.relu(self.fc1(x))\n",
    "        x = F.relu(self.fc2(x))\n",
    "        x = self.fc3(x)\n",
    "        x = F.sigmoid(x)\n",
    "        return x\n",
    "model = Net()"
   ]
  },
  {
   "cell_type": "code",
   "execution_count": 3,
   "metadata": {
    "id": "YUUVAM_l3447"
   },
   "outputs": [],
   "source": [
    "import torch.optim as optim\n",
    "\n",
    "criterion = nn.BCELoss()\n",
    "optimizer = optim.SGD(model.parameters(), lr=0.0001, momentum=0.9)"
   ]
  },
  {
   "cell_type": "code",
   "execution_count": 4,
   "metadata": {
    "id": "DuNytP_SGOGY"
   },
   "outputs": [],
   "source": [
    "def compute_loss(y_hat, y):\n",
    "    return nn.BCELoss()(y_hat, y)"
   ]
  },
  {
   "cell_type": "code",
   "execution_count": 6,
   "metadata": {
    "id": "d_LRsXPM5gJN"
   },
   "outputs": [],
   "source": [
    "data = []\n",
    "with open(\"Skin_NonSkin.txt\",\"r\") as splitfile:\n",
    "  for line in splitfile:\n",
    "    data.append([int(x) for x in line.split()])\n",
    "random.shuffle(data)\n",
    "data = np.array(data)"
   ]
  },
  {
   "cell_type": "code",
   "execution_count": 7,
   "metadata": {
    "colab": {
     "base_uri": "https://localhost:8080/"
    },
    "id": "jUZcfV8ST9RG",
    "outputId": "1caa161a-ea95-4821-a15f-ab4b61f8819e"
   },
   "outputs": [
    {
     "data": {
      "text/plain": [
       "245057"
      ]
     },
     "execution_count": 7,
     "metadata": {},
     "output_type": "execute_result"
    }
   ],
   "source": [
    "len(data)"
   ]
  },
  {
   "cell_type": "code",
   "execution_count": 8,
   "metadata": {
    "id": "7BDS8cONGVtu"
   },
   "outputs": [],
   "source": [
    "def fixlabel(y):\n",
    "    if y == 2: \n",
    "        return 0\n",
    "    else:\n",
    "        return 1"
   ]
  },
  {
   "cell_type": "code",
   "execution_count": 9,
   "metadata": {
    "id": "epizGKL86cEc"
   },
   "outputs": [],
   "source": [
    "train_x = data[:, :-1][:int(len(data)*0.9)]\n",
    "train_y = data[:, -1][:int(len(data)*0.9)]\n",
    "\n",
    "test_x = data[:, :-1][int(len(data)*0.9):]\n",
    "test_y = data[:, -1][int(len(data)*0.9):]\n",
    "\n",
    "for i in range(len(train_y)):\n",
    "        train_y[i] = fixlabel(train_y[i])\n",
    "for i in range(len(test_y)):\n",
    "        test_y[i] = fixlabel(test_y[i])\n",
    "\n",
    "tensor_x = torch.Tensor(train_x) \n",
    "tensor_y = torch.Tensor(train_y).type(torch.float)\n",
    "train_dataset = TensorDataset(tensor_x,tensor_y) # create your datset\n",
    "train_dataloader = DataLoader(train_dataset, batch_size=64, shuffle=True) # create your dataloader\n",
    "\n",
    "tensor_x = torch.Tensor(test_x) \n",
    "tensor_y = torch.Tensor(test_y).type(torch.float)\n",
    "test_dataset = TensorDataset(tensor_x,tensor_y) # create your datset\n",
    "test_dataloader = DataLoader(test_dataset, batch_size=64, shuffle=False,) # create your dataloader"
   ]
  },
  {
   "cell_type": "code",
   "execution_count": 10,
   "metadata": {
    "colab": {
     "base_uri": "https://localhost:8080/"
    },
    "id": "vyAMExtb63gr",
    "outputId": "a93cd805-c037-4219-bb41-051885cc470d"
   },
   "outputs": [
    {
     "data": {
      "text/plain": [
       "<torch.utils.data.dataloader.DataLoader at 0x7fcc8bfb2470>"
      ]
     },
     "execution_count": 10,
     "metadata": {},
     "output_type": "execute_result"
    }
   ],
   "source": [
    "train_dataloader"
   ]
  },
  {
   "cell_type": "code",
   "execution_count": 11,
   "metadata": {
    "colab": {
     "base_uri": "https://localhost:8080/"
    },
    "id": "vntxW71c63hl",
    "outputId": "82a88f1b-52bc-4c39-b44e-5d360e3dc5b7"
   },
   "outputs": [
    {
     "data": {
      "text/plain": [
       "<torch.utils.data.dataloader.DataLoader at 0x7fcc89792e00>"
      ]
     },
     "execution_count": 11,
     "metadata": {},
     "output_type": "execute_result"
    }
   ],
   "source": [
    "test_dataloader"
   ]
  },
  {
   "cell_type": "code",
   "execution_count": 12,
   "metadata": {
    "colab": {
     "base_uri": "https://localhost:8080/"
    },
    "id": "e7SfTY9Y63jI",
    "outputId": "6e09817f-c294-4cf4-9847-8be47b22b09f"
   },
   "outputs": [
    {
     "name": "stderr",
     "output_type": "stream",
     "text": [
      "/home/progs/.local/lib/python3.10/site-packages/torch/nn/functional.py:1944: UserWarning: nn.functional.sigmoid is deprecated. Use torch.sigmoid instead.\n",
      "  warnings.warn(\"nn.functional.sigmoid is deprecated. Use torch.sigmoid instead.\")\n"
     ]
    },
    {
     "name": "stdout",
     "output_type": "stream",
     "text": [
      "[1,  2000] loss: 0.747\n",
      "[2,  2000] loss: 0.561\n",
      "[3,  2000] loss: 0.524\n",
      "[4,  2000] loss: 0.516\n",
      "[5,  2000] loss: 0.514\n",
      "[6,  2000] loss: 0.512\n",
      "[7,  2000] loss: 0.511\n",
      "[8,  2000] loss: 0.512\n",
      "[9,  2000] loss: 0.511\n",
      "[10,  2000] loss: 0.511\n",
      "Finished Training\n"
     ]
    }
   ],
   "source": [
    "for epoch in range(10):  # loop over the dataset multiple times\n",
    "\n",
    "    running_loss = 0.0\n",
    "    for i, data in enumerate(train_dataloader, 0):\n",
    "        # get the inputs; data is a list of [inputs, labels]\n",
    "        inputs, labels = data\n",
    "        \n",
    "\n",
    "        # zero the parameter gradients\n",
    "        model.zero_grad()\n",
    "\n",
    "        # forward + backward + optimize\n",
    "        outputs = model(inputs)\n",
    "        # print(outputs.shape, labels.shape)\n",
    "        \n",
    "        # temp_list = []\n",
    "        # for sample in outputs.data:\n",
    "        #     temp_list.append(sample[0].item())\n",
    "        \n",
    "        # outputs = torch.Tensor(temp_list).type(torch.float)\n",
    "        \n",
    "        #print(outputs.data)\n",
    "        #print(labels)\n",
    "        \n",
    "        #loss = criterion(outputs, labels)\n",
    "        loss = criterion(outputs, labels.unsqueeze(1))\n",
    "        \n",
    "        loss.backward()\n",
    "        optimizer.step()\n",
    "\n",
    "        # print statistics\n",
    "        running_loss += loss.item()\n",
    "        if i % 2000 == 1999:    # print every 2000 mini-batches\n",
    "            print(f'[{epoch + 1}, {i + 1:5d}] loss: {running_loss / 2000:.3f}')\n",
    "            running_loss = 0.0\n",
    "\n",
    "print('Finished Training')"
   ]
  },
  {
   "cell_type": "code",
   "execution_count": null,
   "metadata": {
    "colab": {
     "base_uri": "https://localhost:8080/"
    },
    "id": "spn-Xz62W1sX",
    "outputId": "50333507-a535-458c-cb9c-a9862e4bc92a"
   },
   "outputs": [
    {
     "data": {
      "text/plain": [
       "[tensor([[178., 176., 135.],\n",
       "         [112., 151., 213.],\n",
       "         [191., 190., 152.],\n",
       "         [181., 180., 136.],\n",
       "         [ 34.,  55.,  30.],\n",
       "         [ 64.,  71.,  26.],\n",
       "         [151., 150.,  99.]]), tensor([0., 1., 0., 0., 0., 0., 0.])]"
      ]
     },
     "execution_count": 12,
     "metadata": {},
     "output_type": "execute_result"
    }
   ],
   "source": [
    "data"
   ]
  },
  {
   "cell_type": "code",
   "execution_count": null,
   "metadata": {
    "colab": {
     "base_uri": "https://localhost:8080/"
    },
    "id": "Q6PODiCMX2Zy",
    "outputId": "8b8555a6-4fd7-4b0f-a941-977a541ba679"
   },
   "outputs": [
    {
     "data": {
      "text/plain": [
       "(220551,)"
      ]
     },
     "execution_count": 13,
     "metadata": {},
     "output_type": "execute_result"
    }
   ],
   "source": [
    "train_y.shape"
   ]
  },
  {
   "cell_type": "code",
   "execution_count": null,
   "metadata": {
    "colab": {
     "base_uri": "https://localhost:8080/"
    },
    "id": "b2UNaqkJX5Ys",
    "outputId": "6c794055-397e-4544-fe4f-d95a1611626e"
   },
   "outputs": [
    {
     "data": {
      "text/plain": [
       "(24506,)"
      ]
     },
     "execution_count": 14,
     "metadata": {},
     "output_type": "execute_result"
    }
   ],
   "source": [
    "test_y.shape"
   ]
  },
  {
   "cell_type": "code",
   "execution_count": null,
   "metadata": {
    "colab": {
     "base_uri": "https://localhost:8080/"
    },
    "id": "_-ZCNJtOYaFj",
    "outputId": "388bbb14-1da4-4560-80bd-9aacea02e499"
   },
   "outputs": [
    {
     "name": "stderr",
     "output_type": "stream",
     "text": [
      "/usr/local/lib/python3.7/dist-packages/torch/nn/functional.py:1806: UserWarning: nn.functional.sigmoid is deprecated. Use torch.sigmoid instead.\n",
      "  warnings.warn(\"nn.functional.sigmoid is deprecated. Use torch.sigmoid instead.\")\n"
     ]
    },
    {
     "data": {
      "text/plain": [
       "tensor([1.9295e-08], grad_fn=<SigmoidBackward0>)"
      ]
     },
     "execution_count": 15,
     "metadata": {},
     "output_type": "execute_result"
    }
   ],
   "source": [
    "inp = np.array([170,55,36])\n",
    "inp = torch.Tensor(inp)\n",
    "model(inp)"
   ]
  },
  {
   "cell_type": "code",
   "execution_count": null,
   "metadata": {
    "colab": {
     "base_uri": "https://localhost:8080/"
    },
    "id": "56gZVucQGqNg",
    "outputId": "54d8a44e-d8db-457a-ca90-7b400a2e8914"
   },
   "outputs": [
    {
     "name": "stderr",
     "output_type": "stream",
     "text": [
      "/usr/local/lib/python3.7/dist-packages/torch/nn/functional.py:1806: UserWarning: nn.functional.sigmoid is deprecated. Use torch.sigmoid instead.\n",
      "  warnings.warn(\"nn.functional.sigmoid is deprecated. Use torch.sigmoid instead.\")\n"
     ]
    },
    {
     "data": {
      "text/plain": [
       "99.4083081694279"
      ]
     },
     "execution_count": 16,
     "metadata": {},
     "output_type": "execute_result"
    }
   ],
   "source": [
    "success = 0\n",
    "for i in range(test_x.shape[0]):\n",
    "    prediction = model(torch.Tensor(test_x[i,:])).item()\n",
    "    if prediction >= 0.5 : prediction = 1\n",
    "    else : prediction = 0\n",
    "    if test_y[i] == prediction : success+=1\n",
    "\n",
    "succ_rate = success * 100 / test_x.shape[0]\n",
    "succ_rate"
   ]
  },
  {
   "cell_type": "code",
   "execution_count": null,
   "metadata": {
    "id": "wG1r9Pj2Ntcm"
   },
   "outputs": [],
   "source": [
    "def predict(colour):\n",
    "  inp = np.array(colour)\n",
    "  inp = torch.Tensor(inp)\n",
    "  out = model(inp)\n",
    "  print(out)\n",
    "  if out >= 0.5:\n",
    "    print('skin')\n",
    "  else:\n",
    "    print('not skin')"
   ]
  },
  {
   "cell_type": "code",
   "execution_count": null,
   "metadata": {
    "colab": {
     "base_uri": "https://localhost:8080/"
    },
    "id": "Taz8Ok9cOYB_",
    "outputId": "d3da5885-ad2d-413b-caf4-cf75edca7a72"
   },
   "outputs": [
    {
     "name": "stdout",
     "output_type": "stream",
     "text": [
      "tensor([1.2336e-11], grad_fn=<SigmoidBackward0>)\n",
      "not skin\n"
     ]
    },
    {
     "name": "stderr",
     "output_type": "stream",
     "text": [
      "/usr/local/lib/python3.7/dist-packages/torch/nn/functional.py:1806: UserWarning: nn.functional.sigmoid is deprecated. Use torch.sigmoid instead.\n",
      "  warnings.warn(\"nn.functional.sigmoid is deprecated. Use torch.sigmoid instead.\")\n"
     ]
    }
   ],
   "source": [
    "predict([204,161,139])"
   ]
  }
 ],
 "metadata": {
  "colab": {
   "collapsed_sections": [],
   "name": "skinornot.ipynb",
   "provenance": []
  },
  "kernelspec": {
   "display_name": "Python 3 (ipykernel)",
   "language": "python",
   "name": "python3"
  },
  "language_info": {
   "codemirror_mode": {
    "name": "ipython",
    "version": 3
   },
   "file_extension": ".py",
   "mimetype": "text/x-python",
   "name": "python",
   "nbconvert_exporter": "python",
   "pygments_lexer": "ipython3",
   "version": "3.10.5"
  }
 },
 "nbformat": 4,
 "nbformat_minor": 1
}
