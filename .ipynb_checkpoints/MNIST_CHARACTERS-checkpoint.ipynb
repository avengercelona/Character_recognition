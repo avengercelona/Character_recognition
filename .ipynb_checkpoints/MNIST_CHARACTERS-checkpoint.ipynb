{
 "cells": [
  {
   "cell_type": "markdown",
   "id": "590930b7",
   "metadata": {},
   "source": [
    "# Aquire dataset"
   ]
  },
  {
   "cell_type": "code",
   "execution_count": null,
   "id": "19eec58d",
   "metadata": {},
   "outputs": [],
   "source": []
  }
 ],
 "metadata": {
  "kernelspec": {
   "display_name": "Python 3 (ipykernel)",
   "language": "python",
   "name": "python3"
  },
  "language_info": {
   "codemirror_mode": {
    "name": "ipython",
    "version": 3
   },
   "file_extension": ".py",
   "mimetype": "text/x-python",
   "name": "python",
   "nbconvert_exporter": "python",
   "pygments_lexer": "ipython3",
   "version": "3.10.5"
  },
  "vscode": {
   "interpreter": {
    "hash": "e7370f93d1d0cde622a1f8e1c04877d8463912d04d973331ad4851f04de6915a"
   }
  }
 },
 "nbformat": 4,
 "nbformat_minor": 5
}
